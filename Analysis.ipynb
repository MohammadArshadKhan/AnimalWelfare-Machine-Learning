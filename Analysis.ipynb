{
 "cells": [
  {
   "cell_type": "markdown",
   "metadata": {},
   "source": [
    "# Introduction\n",
    "\n",
    "## Data understanding and preparing to predict the outcome\n",
    "\n",
    "This data analytics report is based on the data for past couple of year collected by Animal Welfare, the analysis is to understand the pattern and risk prediction the animals health in the shelter provided by the Animal Welfare society.\n",
    "\n",
    "This report follows the approach of CRISP-DM methodology."
   ]
  },
  {
   "cell_type": "code",
   "execution_count": 1,
   "metadata": {},
   "outputs": [],
   "source": [
    "import requests\n",
    "import pandas as pd\n",
    "from bs4 import BeautifulSoup\n",
    "import collections\n",
    "\n",
    "\n",
    "from pandas import Series\n",
    "# Import package numpy for numeric computing\n",
    "import numpy as np\n",
    "\n",
    "# Import package matplotlib for visualisation/plotting\n",
    "import matplotlib.pyplot as plt\n",
    "import matplotlib.patches as mpatches\n",
    "\n",
    "#For showing plots directly in the notebook run the command below\n",
    "%matplotlib inline\n",
    "\n",
    "# For saving multiple plots into a single pdf file\n",
    "from matplotlib.backends.backend_pdf import PdfPages\n",
    "import seaborn as sns\n",
    "import json"
   ]
  },
  {
   "cell_type": "markdown",
   "metadata": {},
   "source": [
    "### Task 1 : Prepare data quality report\n",
    "\n",
    "- Check how many rows and columns your CSV has.\n",
    "- Print the first and the last 5 rows.\n",
    "- Convert the features to their appropriate data types (e.g., decide which features are more appropriate as continuos and which ones as categorical types). \n",
    "- Drop duplicate rows and columns, if any.\n",
    "- Drop constant columns, if any.\n",
    "- Save your updated/cleaned data frame to a new csv file."
   ]
  },
  {
   "cell_type": "code",
   "execution_count": 2,
   "metadata": {},
   "outputs": [
    {
     "data": {
      "text/plain": [
       "(1000, 22)"
      ]
     },
     "execution_count": 2,
     "metadata": {},
     "output_type": "execute_result"
    }
   ],
   "source": [
    "# Check how many rows and columns your CSV has.\n",
    "\n",
    "file='AnimalWelfareRisk-19200438.csv'\n",
    "df = pd.read_csv(file)\n",
    "df.shape"
   ]
  },
  {
   "cell_type": "code",
   "execution_count": 3,
   "metadata": {},
   "outputs": [
    {
     "data": {
      "text/html": [
       "<div>\n",
       "<style scoped>\n",
       "    .dataframe tbody tr th:only-of-type {\n",
       "        vertical-align: middle;\n",
       "    }\n",
       "\n",
       "    .dataframe tbody tr th {\n",
       "        vertical-align: top;\n",
       "    }\n",
       "\n",
       "    .dataframe thead th {\n",
       "        text-align: right;\n",
       "    }\n",
       "</style>\n",
       "<table border=\"1\" class=\"dataframe\">\n",
       "  <thead>\n",
       "    <tr style=\"text-align: right;\">\n",
       "      <th></th>\n",
       "      <th>Animal ID</th>\n",
       "      <th>Name_Intake</th>\n",
       "      <th>DateTime_Intake</th>\n",
       "      <th>MonthYear_Intake</th>\n",
       "      <th>Found Location</th>\n",
       "      <th>Intake Type</th>\n",
       "      <th>Intake Condition</th>\n",
       "      <th>Animal Type_Intake</th>\n",
       "      <th>Sex upon Intake</th>\n",
       "      <th>Age upon Intake</th>\n",
       "      <th>...</th>\n",
       "      <th>Name_Outcome</th>\n",
       "      <th>DateTime_Outcome</th>\n",
       "      <th>MonthYear_Outcome</th>\n",
       "      <th>Date of Birth</th>\n",
       "      <th>Animal Type_Outcome</th>\n",
       "      <th>Sex upon Outcome</th>\n",
       "      <th>Age upon Outcome</th>\n",
       "      <th>Breed_Outcome</th>\n",
       "      <th>Color_Outcome</th>\n",
       "      <th>binary_outcome</th>\n",
       "    </tr>\n",
       "  </thead>\n",
       "  <tbody>\n",
       "    <tr>\n",
       "      <th>0</th>\n",
       "      <td>A797495</td>\n",
       "      <td>Ace</td>\n",
       "      <td>06/14/2019 11:34:00 AM</td>\n",
       "      <td>06/14/2019 11:34:00 AM</td>\n",
       "      <td>6814 East Riverside Drive in Austin (TX)</td>\n",
       "      <td>Stray</td>\n",
       "      <td>Normal</td>\n",
       "      <td>Dog</td>\n",
       "      <td>Neutered Male</td>\n",
       "      <td>3 months</td>\n",
       "      <td>...</td>\n",
       "      <td>Ace</td>\n",
       "      <td>06/15/2019 12:44:00 PM</td>\n",
       "      <td>06/15/2019 12:44:00 PM</td>\n",
       "      <td>02/14/2019</td>\n",
       "      <td>Dog</td>\n",
       "      <td>Neutered Male</td>\n",
       "      <td>3 months</td>\n",
       "      <td>Cairn Terrier</td>\n",
       "      <td>Black/Tan</td>\n",
       "      <td>0.0</td>\n",
       "    </tr>\n",
       "    <tr>\n",
       "      <th>1</th>\n",
       "      <td>A801314</td>\n",
       "      <td>NaN</td>\n",
       "      <td>08/02/2019 02:43:00 PM</td>\n",
       "      <td>08/02/2019 02:43:00 PM</td>\n",
       "      <td>11709 Morning View Drive in Travis (TX)</td>\n",
       "      <td>Stray</td>\n",
       "      <td>Nursing</td>\n",
       "      <td>Cat</td>\n",
       "      <td>Unknown</td>\n",
       "      <td>2 weeks</td>\n",
       "      <td>...</td>\n",
       "      <td>NaN</td>\n",
       "      <td>08/02/2019 06:22:00 PM</td>\n",
       "      <td>08/02/2019 06:22:00 PM</td>\n",
       "      <td>07/18/2019</td>\n",
       "      <td>Cat</td>\n",
       "      <td>Unknown</td>\n",
       "      <td>2 weeks</td>\n",
       "      <td>Domestic Shorthair</td>\n",
       "      <td>Orange Tabby</td>\n",
       "      <td>0.0</td>\n",
       "    </tr>\n",
       "    <tr>\n",
       "      <th>2</th>\n",
       "      <td>A699842</td>\n",
       "      <td>Princess</td>\n",
       "      <td>05/19/2015 12:33:00 PM</td>\n",
       "      <td>05/19/2015 12:33:00 PM</td>\n",
       "      <td>Austin (TX)</td>\n",
       "      <td>Owner Surrender</td>\n",
       "      <td>Normal</td>\n",
       "      <td>Dog</td>\n",
       "      <td>Spayed Female</td>\n",
       "      <td>3 months</td>\n",
       "      <td>...</td>\n",
       "      <td>Princess</td>\n",
       "      <td>05/23/2015 02:03:00 PM</td>\n",
       "      <td>05/23/2015 02:03:00 PM</td>\n",
       "      <td>01/23/2015</td>\n",
       "      <td>Dog</td>\n",
       "      <td>Spayed Female</td>\n",
       "      <td>3 months</td>\n",
       "      <td>Chihuahua Shorthair Mix</td>\n",
       "      <td>White/Brown</td>\n",
       "      <td>0.0</td>\n",
       "    </tr>\n",
       "    <tr>\n",
       "      <th>3</th>\n",
       "      <td>A801561</td>\n",
       "      <td>Toby</td>\n",
       "      <td>08/05/2019 06:31:00 PM</td>\n",
       "      <td>08/05/2019 06:31:00 PM</td>\n",
       "      <td>3400 Catalina Drive in Austin (TX)</td>\n",
       "      <td>Stray</td>\n",
       "      <td>Normal</td>\n",
       "      <td>Cat</td>\n",
       "      <td>Intact Male</td>\n",
       "      <td>3 months</td>\n",
       "      <td>...</td>\n",
       "      <td>Toby</td>\n",
       "      <td>09/02/2019 05:22:00 PM</td>\n",
       "      <td>09/02/2019 05:22:00 PM</td>\n",
       "      <td>04/09/2019</td>\n",
       "      <td>Cat</td>\n",
       "      <td>Neutered Male</td>\n",
       "      <td>4 months</td>\n",
       "      <td>Domestic Shorthair</td>\n",
       "      <td>Black/White</td>\n",
       "      <td>0.0</td>\n",
       "    </tr>\n",
       "    <tr>\n",
       "      <th>4</th>\n",
       "      <td>A792521</td>\n",
       "      <td>Tiny</td>\n",
       "      <td>04/11/2019 04:57:00 PM</td>\n",
       "      <td>04/11/2019 04:57:00 PM</td>\n",
       "      <td>Austin (TX)</td>\n",
       "      <td>Owner Surrender</td>\n",
       "      <td>Normal</td>\n",
       "      <td>Dog</td>\n",
       "      <td>Intact Female</td>\n",
       "      <td>2 months</td>\n",
       "      <td>...</td>\n",
       "      <td>Tiny</td>\n",
       "      <td>04/13/2019 11:20:00 AM</td>\n",
       "      <td>04/13/2019 11:20:00 AM</td>\n",
       "      <td>01/20/2019</td>\n",
       "      <td>Dog</td>\n",
       "      <td>Spayed Female</td>\n",
       "      <td>2 months</td>\n",
       "      <td>Chihuahua Shorthair/Dachshund</td>\n",
       "      <td>Tan</td>\n",
       "      <td>0.0</td>\n",
       "    </tr>\n",
       "  </tbody>\n",
       "</table>\n",
       "<p>5 rows × 22 columns</p>\n",
       "</div>"
      ],
      "text/plain": [
       "  Animal ID Name_Intake         DateTime_Intake        MonthYear_Intake  \\\n",
       "0   A797495         Ace  06/14/2019 11:34:00 AM  06/14/2019 11:34:00 AM   \n",
       "1   A801314         NaN  08/02/2019 02:43:00 PM  08/02/2019 02:43:00 PM   \n",
       "2   A699842    Princess  05/19/2015 12:33:00 PM  05/19/2015 12:33:00 PM   \n",
       "3   A801561        Toby  08/05/2019 06:31:00 PM  08/05/2019 06:31:00 PM   \n",
       "4   A792521        Tiny  04/11/2019 04:57:00 PM  04/11/2019 04:57:00 PM   \n",
       "\n",
       "                             Found Location      Intake Type Intake Condition  \\\n",
       "0  6814 East Riverside Drive in Austin (TX)            Stray           Normal   \n",
       "1   11709 Morning View Drive in Travis (TX)            Stray          Nursing   \n",
       "2                               Austin (TX)  Owner Surrender           Normal   \n",
       "3        3400 Catalina Drive in Austin (TX)            Stray           Normal   \n",
       "4                               Austin (TX)  Owner Surrender           Normal   \n",
       "\n",
       "  Animal Type_Intake Sex upon Intake Age upon Intake  ... Name_Outcome  \\\n",
       "0                Dog   Neutered Male        3 months  ...          Ace   \n",
       "1                Cat         Unknown         2 weeks  ...          NaN   \n",
       "2                Dog   Spayed Female        3 months  ...     Princess   \n",
       "3                Cat     Intact Male        3 months  ...         Toby   \n",
       "4                Dog   Intact Female        2 months  ...         Tiny   \n",
       "\n",
       "         DateTime_Outcome       MonthYear_Outcome Date of Birth  \\\n",
       "0  06/15/2019 12:44:00 PM  06/15/2019 12:44:00 PM    02/14/2019   \n",
       "1  08/02/2019 06:22:00 PM  08/02/2019 06:22:00 PM    07/18/2019   \n",
       "2  05/23/2015 02:03:00 PM  05/23/2015 02:03:00 PM    01/23/2015   \n",
       "3  09/02/2019 05:22:00 PM  09/02/2019 05:22:00 PM    04/09/2019   \n",
       "4  04/13/2019 11:20:00 AM  04/13/2019 11:20:00 AM    01/20/2019   \n",
       "\n",
       "  Animal Type_Outcome Sex upon Outcome Age upon Outcome  \\\n",
       "0                 Dog    Neutered Male         3 months   \n",
       "1                 Cat          Unknown          2 weeks   \n",
       "2                 Dog    Spayed Female         3 months   \n",
       "3                 Cat    Neutered Male         4 months   \n",
       "4                 Dog    Spayed Female         2 months   \n",
       "\n",
       "                   Breed_Outcome Color_Outcome binary_outcome  \n",
       "0                  Cairn Terrier     Black/Tan            0.0  \n",
       "1             Domestic Shorthair  Orange Tabby            0.0  \n",
       "2        Chihuahua Shorthair Mix   White/Brown            0.0  \n",
       "3             Domestic Shorthair   Black/White            0.0  \n",
       "4  Chihuahua Shorthair/Dachshund           Tan            0.0  \n",
       "\n",
       "[5 rows x 22 columns]"
      ]
     },
     "execution_count": 3,
     "metadata": {},
     "output_type": "execute_result"
    }
   ],
   "source": [
    "# Print first and last 5 rows.\n",
    "\n",
    "df.head(5)"
   ]
  },
  {
   "cell_type": "code",
   "execution_count": 4,
   "metadata": {},
   "outputs": [
    {
     "data": {
      "text/html": [
       "<div>\n",
       "<style scoped>\n",
       "    .dataframe tbody tr th:only-of-type {\n",
       "        vertical-align: middle;\n",
       "    }\n",
       "\n",
       "    .dataframe tbody tr th {\n",
       "        vertical-align: top;\n",
       "    }\n",
       "\n",
       "    .dataframe thead th {\n",
       "        text-align: right;\n",
       "    }\n",
       "</style>\n",
       "<table border=\"1\" class=\"dataframe\">\n",
       "  <thead>\n",
       "    <tr style=\"text-align: right;\">\n",
       "      <th></th>\n",
       "      <th>Animal ID</th>\n",
       "      <th>Name_Intake</th>\n",
       "      <th>DateTime_Intake</th>\n",
       "      <th>MonthYear_Intake</th>\n",
       "      <th>Found Location</th>\n",
       "      <th>Intake Type</th>\n",
       "      <th>Intake Condition</th>\n",
       "      <th>Animal Type_Intake</th>\n",
       "      <th>Sex upon Intake</th>\n",
       "      <th>Age upon Intake</th>\n",
       "      <th>...</th>\n",
       "      <th>Name_Outcome</th>\n",
       "      <th>DateTime_Outcome</th>\n",
       "      <th>MonthYear_Outcome</th>\n",
       "      <th>Date of Birth</th>\n",
       "      <th>Animal Type_Outcome</th>\n",
       "      <th>Sex upon Outcome</th>\n",
       "      <th>Age upon Outcome</th>\n",
       "      <th>Breed_Outcome</th>\n",
       "      <th>Color_Outcome</th>\n",
       "      <th>binary_outcome</th>\n",
       "    </tr>\n",
       "  </thead>\n",
       "  <tbody>\n",
       "    <tr>\n",
       "      <th>995</th>\n",
       "      <td>A704490</td>\n",
       "      <td>NaN</td>\n",
       "      <td>06/05/2015 02:05:00 PM</td>\n",
       "      <td>06/05/2015 02:05:00 PM</td>\n",
       "      <td>Becker Ln And Reynero in Del Valle (TX)</td>\n",
       "      <td>Stray</td>\n",
       "      <td>Nursing</td>\n",
       "      <td>Dog</td>\n",
       "      <td>Intact Male</td>\n",
       "      <td>1 month</td>\n",
       "      <td>...</td>\n",
       "      <td>NaN</td>\n",
       "      <td>06/05/2015 04:03:00 PM</td>\n",
       "      <td>06/05/2015 04:03:00 PM</td>\n",
       "      <td>04/28/2015</td>\n",
       "      <td>Dog</td>\n",
       "      <td>Intact Male</td>\n",
       "      <td>1 month</td>\n",
       "      <td>Labrador Retriever/Plott Hound</td>\n",
       "      <td>Black Brindle/White</td>\n",
       "      <td>0.0</td>\n",
       "    </tr>\n",
       "    <tr>\n",
       "      <th>996</th>\n",
       "      <td>A719587</td>\n",
       "      <td>Andy</td>\n",
       "      <td>01/23/2016 11:01:00 AM</td>\n",
       "      <td>01/23/2016 11:01:00 AM</td>\n",
       "      <td>7201 Levander Loop in Austin (TX)</td>\n",
       "      <td>Stray</td>\n",
       "      <td>Normal</td>\n",
       "      <td>Dog</td>\n",
       "      <td>Intact Male</td>\n",
       "      <td>9 months</td>\n",
       "      <td>...</td>\n",
       "      <td>Andy</td>\n",
       "      <td>02/10/2016 01:20:00 PM</td>\n",
       "      <td>02/10/2016 01:20:00 PM</td>\n",
       "      <td>03/30/2015</td>\n",
       "      <td>Dog</td>\n",
       "      <td>Neutered Male</td>\n",
       "      <td>10 months</td>\n",
       "      <td>German Shepherd/Border Collie</td>\n",
       "      <td>Black/White</td>\n",
       "      <td>0.0</td>\n",
       "    </tr>\n",
       "    <tr>\n",
       "      <th>997</th>\n",
       "      <td>A722597</td>\n",
       "      <td>Rico</td>\n",
       "      <td>03/19/2016 11:51:00 AM</td>\n",
       "      <td>03/19/2016 11:51:00 AM</td>\n",
       "      <td>Leander (TX)</td>\n",
       "      <td>Owner Surrender</td>\n",
       "      <td>Normal</td>\n",
       "      <td>Dog</td>\n",
       "      <td>Neutered Male</td>\n",
       "      <td>13 years</td>\n",
       "      <td>...</td>\n",
       "      <td>Rico</td>\n",
       "      <td>03/20/2016 04:12:00 PM</td>\n",
       "      <td>03/20/2016 04:12:00 PM</td>\n",
       "      <td>03/19/2003</td>\n",
       "      <td>Dog</td>\n",
       "      <td>Neutered Male</td>\n",
       "      <td>13 years</td>\n",
       "      <td>Shih Tzu Mix</td>\n",
       "      <td>Black/White</td>\n",
       "      <td>0.0</td>\n",
       "    </tr>\n",
       "    <tr>\n",
       "      <th>998</th>\n",
       "      <td>A806005</td>\n",
       "      <td>NaN</td>\n",
       "      <td>10/04/2019 06:03:00 PM</td>\n",
       "      <td>10/04/2019 06:03:00 PM</td>\n",
       "      <td>13828 Spring Heath Road in Pflugerville (TX)</td>\n",
       "      <td>Stray</td>\n",
       "      <td>Nursing</td>\n",
       "      <td>Cat</td>\n",
       "      <td>Unknown</td>\n",
       "      <td>2 days</td>\n",
       "      <td>...</td>\n",
       "      <td>NaN</td>\n",
       "      <td>10/04/2019 06:51:00 PM</td>\n",
       "      <td>10/04/2019 06:51:00 PM</td>\n",
       "      <td>10/02/2019</td>\n",
       "      <td>Cat</td>\n",
       "      <td>Unknown</td>\n",
       "      <td>2 days</td>\n",
       "      <td>Domestic Shorthair</td>\n",
       "      <td>Brown Tabby</td>\n",
       "      <td>0.0</td>\n",
       "    </tr>\n",
       "    <tr>\n",
       "      <th>999</th>\n",
       "      <td>A800167</td>\n",
       "      <td>NaN</td>\n",
       "      <td>07/17/2019 11:50:00 AM</td>\n",
       "      <td>07/17/2019 11:50:00 AM</td>\n",
       "      <td>12315 Calduis Road in Austin (TX)</td>\n",
       "      <td>Stray</td>\n",
       "      <td>Normal</td>\n",
       "      <td>Cat</td>\n",
       "      <td>Intact Female</td>\n",
       "      <td>2 weeks</td>\n",
       "      <td>...</td>\n",
       "      <td>NaN</td>\n",
       "      <td>07/17/2019 03:17:00 PM</td>\n",
       "      <td>07/17/2019 03:17:00 PM</td>\n",
       "      <td>06/29/2019</td>\n",
       "      <td>Cat</td>\n",
       "      <td>Intact Female</td>\n",
       "      <td>2 weeks</td>\n",
       "      <td>Domestic Shorthair</td>\n",
       "      <td>Buff</td>\n",
       "      <td>0.0</td>\n",
       "    </tr>\n",
       "  </tbody>\n",
       "</table>\n",
       "<p>5 rows × 22 columns</p>\n",
       "</div>"
      ],
      "text/plain": [
       "    Animal ID Name_Intake         DateTime_Intake        MonthYear_Intake  \\\n",
       "995   A704490         NaN  06/05/2015 02:05:00 PM  06/05/2015 02:05:00 PM   \n",
       "996   A719587        Andy  01/23/2016 11:01:00 AM  01/23/2016 11:01:00 AM   \n",
       "997   A722597        Rico  03/19/2016 11:51:00 AM  03/19/2016 11:51:00 AM   \n",
       "998   A806005         NaN  10/04/2019 06:03:00 PM  10/04/2019 06:03:00 PM   \n",
       "999   A800167         NaN  07/17/2019 11:50:00 AM  07/17/2019 11:50:00 AM   \n",
       "\n",
       "                                   Found Location      Intake Type  \\\n",
       "995       Becker Ln And Reynero in Del Valle (TX)            Stray   \n",
       "996             7201 Levander Loop in Austin (TX)            Stray   \n",
       "997                                  Leander (TX)  Owner Surrender   \n",
       "998  13828 Spring Heath Road in Pflugerville (TX)            Stray   \n",
       "999             12315 Calduis Road in Austin (TX)            Stray   \n",
       "\n",
       "    Intake Condition Animal Type_Intake Sex upon Intake Age upon Intake  ...  \\\n",
       "995          Nursing                Dog     Intact Male         1 month  ...   \n",
       "996           Normal                Dog     Intact Male        9 months  ...   \n",
       "997           Normal                Dog   Neutered Male        13 years  ...   \n",
       "998          Nursing                Cat         Unknown          2 days  ...   \n",
       "999           Normal                Cat   Intact Female         2 weeks  ...   \n",
       "\n",
       "    Name_Outcome        DateTime_Outcome       MonthYear_Outcome  \\\n",
       "995          NaN  06/05/2015 04:03:00 PM  06/05/2015 04:03:00 PM   \n",
       "996         Andy  02/10/2016 01:20:00 PM  02/10/2016 01:20:00 PM   \n",
       "997         Rico  03/20/2016 04:12:00 PM  03/20/2016 04:12:00 PM   \n",
       "998          NaN  10/04/2019 06:51:00 PM  10/04/2019 06:51:00 PM   \n",
       "999          NaN  07/17/2019 03:17:00 PM  07/17/2019 03:17:00 PM   \n",
       "\n",
       "    Date of Birth Animal Type_Outcome Sex upon Outcome Age upon Outcome  \\\n",
       "995    04/28/2015                 Dog      Intact Male          1 month   \n",
       "996    03/30/2015                 Dog    Neutered Male        10 months   \n",
       "997    03/19/2003                 Dog    Neutered Male         13 years   \n",
       "998    10/02/2019                 Cat          Unknown           2 days   \n",
       "999    06/29/2019                 Cat    Intact Female          2 weeks   \n",
       "\n",
       "                      Breed_Outcome        Color_Outcome binary_outcome  \n",
       "995  Labrador Retriever/Plott Hound  Black Brindle/White            0.0  \n",
       "996   German Shepherd/Border Collie          Black/White            0.0  \n",
       "997                    Shih Tzu Mix          Black/White            0.0  \n",
       "998              Domestic Shorthair          Brown Tabby            0.0  \n",
       "999              Domestic Shorthair                 Buff            0.0  \n",
       "\n",
       "[5 rows x 22 columns]"
      ]
     },
     "execution_count": 4,
     "metadata": {},
     "output_type": "execute_result"
    }
   ],
   "source": [
    "# Print the first and the last 5 rows.\n",
    "\n",
    "df.tail(5)"
   ]
  },
  {
   "cell_type": "code",
   "execution_count": 5,
   "metadata": {
    "scrolled": true
   },
   "outputs": [
    {
     "data": {
      "text/plain": [
       "Animal ID               object\n",
       "Name_Intake             object\n",
       "DateTime_Intake         object\n",
       "MonthYear_Intake        object\n",
       "Found Location          object\n",
       "Intake Type             object\n",
       "Intake Condition        object\n",
       "Animal Type_Intake      object\n",
       "Sex upon Intake         object\n",
       "Age upon Intake         object\n",
       "Breed_Intake            object\n",
       "Color_Intake            object\n",
       "Name_Outcome            object\n",
       "DateTime_Outcome        object\n",
       "MonthYear_Outcome       object\n",
       "Date of Birth           object\n",
       "Animal Type_Outcome     object\n",
       "Sex upon Outcome        object\n",
       "Age upon Outcome        object\n",
       "Breed_Outcome           object\n",
       "Color_Outcome           object\n",
       "binary_outcome         float64\n",
       "dtype: object"
      ]
     },
     "execution_count": 5,
     "metadata": {},
     "output_type": "execute_result"
    }
   ],
   "source": [
    "# Convert the features to their appropriate data types (e.g., decide which features are more appropriate as continuos and which ones as categorical types).\n",
    "\n",
    "df.dtypes # check present dataTypes assigned"
   ]
  },
  {
   "cell_type": "code",
   "execution_count": 6,
   "metadata": {},
   "outputs": [
    {
     "data": {
      "text/plain": [
       "Animal ID              1000\n",
       "Name_Intake             565\n",
       "DateTime_Intake         992\n",
       "MonthYear_Intake        992\n",
       "Found Location          754\n",
       "Intake Type               6\n",
       "Intake Condition          8\n",
       "Animal Type_Intake        5\n",
       "Sex upon Intake           5\n",
       "Age upon Intake          39\n",
       "Breed_Intake            207\n",
       "Color_Intake            117\n",
       "Name_Outcome            565\n",
       "DateTime_Outcome        996\n",
       "MonthYear_Outcome       996\n",
       "Date of Birth           852\n",
       "Animal Type_Outcome       5\n",
       "Sex upon Outcome          5\n",
       "Age upon Outcome         39\n",
       "Breed_Outcome           207\n",
       "Color_Outcome           117\n",
       "binary_outcome            2\n",
       "dtype: int64"
      ]
     },
     "execution_count": 6,
     "metadata": {},
     "output_type": "execute_result"
    }
   ],
   "source": [
    "df.nunique() # check the unique values."
   ]
  },
  {
   "cell_type": "code",
   "execution_count": 7,
   "metadata": {},
   "outputs": [
    {
     "data": {
      "text/plain": [
       "Index(['AnimalID', 'Name_Intake', 'DateTime_Intake', 'FoundLocation',\n",
       "       'IntakeType', 'IntakeCondition', 'AnimalType_Intake', 'SexuponIntake',\n",
       "       'AgeuponIntake', 'Breed_Intake', 'Color_Intake', 'DateTime_Outcome',\n",
       "       'DateofBirth', 'SexuponOutcome', 'AgeuponOutcome', 'Result'],\n",
       "      dtype='object')"
      ]
     },
     "execution_count": 7,
     "metadata": {},
     "output_type": "execute_result"
    }
   ],
   "source": [
    "# Remove spaces from column names\n",
    "df.columns = df.columns.str.replace(' ', '')\n",
    "\n",
    "# Rename the feature \"binary_outcome\" to \"Result\"\n",
    "df = df.rename(columns={'binary_outcome': 'Result'})\n",
    "\n",
    "#Droping duplicate rows and columns\n",
    "df=df.T.drop_duplicates().T\n",
    "\n",
    "df.columns\n",
    "\n"
   ]
  },
  {
   "cell_type": "markdown",
   "metadata": {},
   "source": [
    "### Observation:\n",
    "\n",
    "* Intake type, Intake condition, Animal Type_intake, Sex upon intake, Animal type outcome, Sex upon outcome and Binary_outcome has less unique value so one thing most of the data is from same category.\n",
    "   - we can use above as categorical values."
   ]
  },
  {
   "cell_type": "code",
   "execution_count": 8,
   "metadata": {
    "scrolled": true
   },
   "outputs": [],
   "source": [
    "categorical_values =['IntakeType','IntakeCondition','AnimalType_Intake','SexuponIntake','SexuponOutcome',\n",
    "       'Result','Breed_Intake','Color_Intake']\n",
    "    "
   ]
  },
  {
   "cell_type": "markdown",
   "metadata": {},
   "source": [
    "From the above data we can understand that the categorical values are rightly examined, though in the Sex upon Intake and Outcome has some Unknown values"
   ]
  },
  {
   "cell_type": "code",
   "execution_count": 9,
   "metadata": {},
   "outputs": [
    {
     "data": {
      "text/plain": [
       "AnimalID               object\n",
       "Name_Intake            object\n",
       "DateTime_Intake        object\n",
       "FoundLocation          object\n",
       "IntakeType           category\n",
       "IntakeCondition      category\n",
       "AnimalType_Intake    category\n",
       "SexuponIntake        category\n",
       "AgeuponIntake          object\n",
       "Breed_Intake         category\n",
       "Color_Intake         category\n",
       "DateTime_Outcome       object\n",
       "DateofBirth            object\n",
       "SexuponOutcome       category\n",
       "AgeuponOutcome         object\n",
       "Result               category\n",
       "dtype: object"
      ]
     },
     "execution_count": 9,
     "metadata": {},
     "output_type": "execute_result"
    }
   ],
   "source": [
    "for i in categorical_values:\n",
    "    df[i]= df[i].astype('category')\n",
    "df.dtypes"
   ]
  },
  {
   "cell_type": "code",
   "execution_count": 10,
   "metadata": {},
   "outputs": [],
   "source": [
    "#convert the dateTime to get rid of the am and pm\n",
    "def date_time(ele):\n",
    "    formats = pd.to_datetime(ele, errors='coerce')\n",
    "    return formats\n",
    "\n",
    "df['DateTime_Intake'] = df['DateTime_Intake'].apply(date_time)\n",
    "df['DateTime_Outcome'] = df['DateTime_Outcome'].apply(date_time)\n",
    "\n",
    "df['DateofBirth'] = df['DateofBirth'].apply(date_time)\n"
   ]
  },
  {
   "cell_type": "code",
   "execution_count": 11,
   "metadata": {},
   "outputs": [],
   "source": [
    "#convert the age of the animals \n",
    "def age(x):\n",
    "    x= str(x)\n",
    "    if x == '?': \n",
    "        return 0\n",
    "    age = int(x.split()[0])\n",
    "    if x.find('year') > -1: \n",
    "        return age\n",
    "    if x.find('month')> -1: \n",
    "        return age / 12.\n",
    "    if x.find('week')> -1: \n",
    "        return age / 52.\n",
    "    if x.find('day')> -1: \n",
    "        return age / 365.\n",
    "    else: \n",
    "        return 0\n",
    "\n",
    "df[\"AgeuponIntake\"] = df.AgeuponIntake.apply(age)\n",
    "df[\"AgeuponOutcome\"] = df.AgeuponOutcome.apply(age)\n"
   ]
  },
  {
   "cell_type": "code",
   "execution_count": 12,
   "metadata": {},
   "outputs": [
    {
     "data": {
      "text/plain": [
       "Index(['AgeuponIntake', 'AgeuponOutcome'], dtype='object')"
      ]
     },
     "execution_count": 12,
     "metadata": {},
     "output_type": "execute_result"
    }
   ],
   "source": [
    "#Update the numeric features, after converting ID and flag to 'category'.\n",
    "numeric_columns = df.select_dtypes(['int64', 'float64']).columns\n",
    "numeric_columns"
   ]
  },
  {
   "cell_type": "code",
   "execution_count": 13,
   "metadata": {},
   "outputs": [
    {
     "data": {
      "text/plain": [
       "Index(['IntakeType', 'IntakeCondition', 'AnimalType_Intake', 'SexuponIntake',\n",
       "       'Breed_Intake', 'Color_Intake', 'SexuponOutcome', 'Result'],\n",
       "      dtype='object')"
      ]
     },
     "execution_count": 13,
     "metadata": {},
     "output_type": "execute_result"
    }
   ],
   "source": [
    "#Look at the categorical features only\n",
    "category_columns = df.select_dtypes(['category']).columns\n",
    "category_columns"
   ]
  },
  {
   "cell_type": "code",
   "execution_count": 14,
   "metadata": {},
   "outputs": [
    {
     "data": {
      "text/plain": [
       "AnimalID                     object\n",
       "Name_Intake                  object\n",
       "DateTime_Intake      datetime64[ns]\n",
       "FoundLocation                object\n",
       "IntakeType                 category\n",
       "IntakeCondition            category\n",
       "AnimalType_Intake          category\n",
       "SexuponIntake              category\n",
       "AgeuponIntake               float64\n",
       "Breed_Intake               category\n",
       "Color_Intake               category\n",
       "DateTime_Outcome     datetime64[ns]\n",
       "DateofBirth          datetime64[ns]\n",
       "SexuponOutcome             category\n",
       "AgeuponOutcome              float64\n",
       "Result                     category\n",
       "dtype: object"
      ]
     },
     "execution_count": 14,
     "metadata": {},
     "output_type": "execute_result"
    }
   ],
   "source": [
    "df.dtypes"
   ]
  },
  {
   "cell_type": "code",
   "execution_count": 15,
   "metadata": {},
   "outputs": [
    {
     "name": "stdout",
     "output_type": "stream",
     "text": [
      "Number of duplicate (excluding first) rows in the table is:  0\n",
      "Number of duplicate rows (including first) in the table is: 0\n"
     ]
    }
   ],
   "source": [
    "#Print the number of duplicates, without the original rows that were duplicated\n",
    "print('Number of duplicate (excluding first) rows in the table is: ', df.duplicated().sum())\n",
    "\n",
    "# Check for duplicate rows. \n",
    "# Use \"keep=False\" to mark all duplicates as true, including the original rows that were duplicated.\n",
    "print('Number of duplicate rows (including first) in the table is:', df[df.duplicated(keep=False)].shape[0])"
   ]
  },
  {
   "cell_type": "code",
   "execution_count": 16,
   "metadata": {},
   "outputs": [],
   "source": [
    "# to get year of intake for analysis\n",
    "\n",
    "df['year'] = pd.DatetimeIndex(df['DateTime_Intake']).year \n"
   ]
  },
  {
   "cell_type": "code",
   "execution_count": 17,
   "metadata": {},
   "outputs": [],
   "source": [
    "# to get month of intake for analysis, so that we can predict the season.\n",
    "\n",
    "df['month'] = pd.DatetimeIndex(df['DateTime_Intake']).month\n"
   ]
  },
  {
   "cell_type": "code",
   "execution_count": 18,
   "metadata": {},
   "outputs": [
    {
     "name": "stdout",
     "output_type": "stream",
     "text": [
      "Number of duplicate (excluding first) columns in the table is:  0\n",
      "Number of duplicate (including first) columns in the table is:  0\n"
     ]
    }
   ],
   "source": [
    "# Check for duplicate columns\n",
    "#First transpose the df so columns become rows, then apply the same check as above\n",
    "\n",
    "dfT = df.T\n",
    "print(\"Number of duplicate (excluding first) columns in the table is: \", dfT.duplicated().sum())\n",
    "print(\"Number of duplicate (including first) columns in the table is: \",  dfT[dfT.duplicated(keep=False)].shape[0])"
   ]
  },
  {
   "cell_type": "code",
   "execution_count": 19,
   "metadata": {},
   "outputs": [
    {
     "data": {
      "text/html": [
       "<div>\n",
       "<style scoped>\n",
       "    .dataframe tbody tr th:only-of-type {\n",
       "        vertical-align: middle;\n",
       "    }\n",
       "\n",
       "    .dataframe tbody tr th {\n",
       "        vertical-align: top;\n",
       "    }\n",
       "\n",
       "    .dataframe thead th {\n",
       "        text-align: right;\n",
       "    }\n",
       "</style>\n",
       "<table border=\"1\" class=\"dataframe\">\n",
       "  <thead>\n",
       "    <tr style=\"text-align: right;\">\n",
       "      <th></th>\n",
       "      <th>AnimalID</th>\n",
       "      <th>Name_Intake</th>\n",
       "      <th>DateTime_Intake</th>\n",
       "      <th>FoundLocation</th>\n",
       "      <th>IntakeType</th>\n",
       "      <th>IntakeCondition</th>\n",
       "      <th>AnimalType_Intake</th>\n",
       "      <th>SexuponIntake</th>\n",
       "      <th>AgeuponIntake</th>\n",
       "      <th>Breed_Intake</th>\n",
       "      <th>Color_Intake</th>\n",
       "      <th>DateTime_Outcome</th>\n",
       "      <th>DateofBirth</th>\n",
       "      <th>SexuponOutcome</th>\n",
       "      <th>AgeuponOutcome</th>\n",
       "      <th>Result</th>\n",
       "      <th>year</th>\n",
       "      <th>month</th>\n",
       "    </tr>\n",
       "  </thead>\n",
       "  <tbody>\n",
       "    <tr>\n",
       "      <th>0</th>\n",
       "      <td>A797495</td>\n",
       "      <td>Ace</td>\n",
       "      <td>2019-06-14 11:34:00</td>\n",
       "      <td>6814 East Riverside Drive in Austin (TX)</td>\n",
       "      <td>Stray</td>\n",
       "      <td>Normal</td>\n",
       "      <td>Dog</td>\n",
       "      <td>Neutered Male</td>\n",
       "      <td>0.250000</td>\n",
       "      <td>Cairn Terrier</td>\n",
       "      <td>Black/Tan</td>\n",
       "      <td>2019-06-15 12:44:00</td>\n",
       "      <td>2019-02-14</td>\n",
       "      <td>Neutered Male</td>\n",
       "      <td>0.250000</td>\n",
       "      <td>0.0</td>\n",
       "      <td>2019</td>\n",
       "      <td>6</td>\n",
       "    </tr>\n",
       "    <tr>\n",
       "      <th>1</th>\n",
       "      <td>A801314</td>\n",
       "      <td>NaN</td>\n",
       "      <td>2019-08-02 14:43:00</td>\n",
       "      <td>11709 Morning View Drive in Travis (TX)</td>\n",
       "      <td>Stray</td>\n",
       "      <td>Nursing</td>\n",
       "      <td>Cat</td>\n",
       "      <td>Unknown</td>\n",
       "      <td>0.038462</td>\n",
       "      <td>Domestic Shorthair</td>\n",
       "      <td>Orange Tabby</td>\n",
       "      <td>2019-08-02 18:22:00</td>\n",
       "      <td>2019-07-18</td>\n",
       "      <td>Unknown</td>\n",
       "      <td>0.038462</td>\n",
       "      <td>0.0</td>\n",
       "      <td>2019</td>\n",
       "      <td>8</td>\n",
       "    </tr>\n",
       "    <tr>\n",
       "      <th>2</th>\n",
       "      <td>A699842</td>\n",
       "      <td>Princess</td>\n",
       "      <td>2015-05-19 12:33:00</td>\n",
       "      <td>Austin (TX)</td>\n",
       "      <td>Owner Surrender</td>\n",
       "      <td>Normal</td>\n",
       "      <td>Dog</td>\n",
       "      <td>Spayed Female</td>\n",
       "      <td>0.250000</td>\n",
       "      <td>Chihuahua Shorthair Mix</td>\n",
       "      <td>White/Brown</td>\n",
       "      <td>2015-05-23 14:03:00</td>\n",
       "      <td>2015-01-23</td>\n",
       "      <td>Spayed Female</td>\n",
       "      <td>0.250000</td>\n",
       "      <td>0.0</td>\n",
       "      <td>2015</td>\n",
       "      <td>5</td>\n",
       "    </tr>\n",
       "    <tr>\n",
       "      <th>3</th>\n",
       "      <td>A801561</td>\n",
       "      <td>Toby</td>\n",
       "      <td>2019-08-05 18:31:00</td>\n",
       "      <td>3400 Catalina Drive in Austin (TX)</td>\n",
       "      <td>Stray</td>\n",
       "      <td>Normal</td>\n",
       "      <td>Cat</td>\n",
       "      <td>Intact Male</td>\n",
       "      <td>0.250000</td>\n",
       "      <td>Domestic Shorthair</td>\n",
       "      <td>Black/White</td>\n",
       "      <td>2019-09-02 17:22:00</td>\n",
       "      <td>2019-04-09</td>\n",
       "      <td>Neutered Male</td>\n",
       "      <td>0.333333</td>\n",
       "      <td>0.0</td>\n",
       "      <td>2019</td>\n",
       "      <td>8</td>\n",
       "    </tr>\n",
       "    <tr>\n",
       "      <th>4</th>\n",
       "      <td>A792521</td>\n",
       "      <td>Tiny</td>\n",
       "      <td>2019-04-11 16:57:00</td>\n",
       "      <td>Austin (TX)</td>\n",
       "      <td>Owner Surrender</td>\n",
       "      <td>Normal</td>\n",
       "      <td>Dog</td>\n",
       "      <td>Intact Female</td>\n",
       "      <td>0.166667</td>\n",
       "      <td>Chihuahua Shorthair/Dachshund</td>\n",
       "      <td>Tan</td>\n",
       "      <td>2019-04-13 11:20:00</td>\n",
       "      <td>2019-01-20</td>\n",
       "      <td>Spayed Female</td>\n",
       "      <td>0.166667</td>\n",
       "      <td>0.0</td>\n",
       "      <td>2019</td>\n",
       "      <td>4</td>\n",
       "    </tr>\n",
       "    <tr>\n",
       "      <th>5</th>\n",
       "      <td>A667481</td>\n",
       "      <td>Rocco</td>\n",
       "      <td>2013-11-18 17:58:00</td>\n",
       "      <td>1700 Ledgewood Dr in Austin (TX)</td>\n",
       "      <td>Stray</td>\n",
       "      <td>Normal</td>\n",
       "      <td>Dog</td>\n",
       "      <td>Intact Male</td>\n",
       "      <td>2.000000</td>\n",
       "      <td>Rottweiler Mix</td>\n",
       "      <td>Black/Brown</td>\n",
       "      <td>2013-11-20 18:56:00</td>\n",
       "      <td>2011-11-18</td>\n",
       "      <td>Neutered Male</td>\n",
       "      <td>2.000000</td>\n",
       "      <td>0.0</td>\n",
       "      <td>2013</td>\n",
       "      <td>11</td>\n",
       "    </tr>\n",
       "    <tr>\n",
       "      <th>6</th>\n",
       "      <td>A773647</td>\n",
       "      <td>NaN</td>\n",
       "      <td>2018-06-04 06:56:00</td>\n",
       "      <td>4434 Frontier Trl in Austin (TX)</td>\n",
       "      <td>Stray</td>\n",
       "      <td>Injured</td>\n",
       "      <td>Bird</td>\n",
       "      <td>Unknown</td>\n",
       "      <td>1.000000</td>\n",
       "      <td>Quaker Mix</td>\n",
       "      <td>Green/Gray</td>\n",
       "      <td>2018-06-04 13:08:00</td>\n",
       "      <td>2017-06-04</td>\n",
       "      <td>Unknown</td>\n",
       "      <td>1.000000</td>\n",
       "      <td>0.0</td>\n",
       "      <td>2018</td>\n",
       "      <td>6</td>\n",
       "    </tr>\n",
       "    <tr>\n",
       "      <th>7</th>\n",
       "      <td>A719762</td>\n",
       "      <td>Rillo</td>\n",
       "      <td>2016-01-27 12:53:00</td>\n",
       "      <td>1515 Grove Blvd in Austin (TX)</td>\n",
       "      <td>Stray</td>\n",
       "      <td>Normal</td>\n",
       "      <td>Dog</td>\n",
       "      <td>Intact Female</td>\n",
       "      <td>0.076923</td>\n",
       "      <td>Pit Bull Mix</td>\n",
       "      <td>Chocolate/White</td>\n",
       "      <td>2016-01-28 18:37:00</td>\n",
       "      <td>2015-12-27</td>\n",
       "      <td>Intact Female</td>\n",
       "      <td>0.076923</td>\n",
       "      <td>0.0</td>\n",
       "      <td>2016</td>\n",
       "      <td>1</td>\n",
       "    </tr>\n",
       "    <tr>\n",
       "      <th>8</th>\n",
       "      <td>A798690</td>\n",
       "      <td>NaN</td>\n",
       "      <td>2019-06-29 12:20:00</td>\n",
       "      <td>Wickham Lane And Etheredge Drive in Austin (TX)</td>\n",
       "      <td>Stray</td>\n",
       "      <td>Normal</td>\n",
       "      <td>Dog</td>\n",
       "      <td>Intact Male</td>\n",
       "      <td>5.000000</td>\n",
       "      <td>Chihuahua Shorthair</td>\n",
       "      <td>Black/Tricolor</td>\n",
       "      <td>2019-07-03 16:51:00</td>\n",
       "      <td>2014-06-29</td>\n",
       "      <td>Neutered Male</td>\n",
       "      <td>5.000000</td>\n",
       "      <td>0.0</td>\n",
       "      <td>2019</td>\n",
       "      <td>6</td>\n",
       "    </tr>\n",
       "    <tr>\n",
       "      <th>9</th>\n",
       "      <td>A736195</td>\n",
       "      <td>NaN</td>\n",
       "      <td>2016-10-06 13:02:00</td>\n",
       "      <td>12112 Scribe Dr in Austin (TX)</td>\n",
       "      <td>Stray</td>\n",
       "      <td>Normal</td>\n",
       "      <td>Cat</td>\n",
       "      <td>Intact Male</td>\n",
       "      <td>0.057692</td>\n",
       "      <td>Domestic Medium Hair Mix</td>\n",
       "      <td>Brown Tabby/White</td>\n",
       "      <td>2016-10-06 15:39:00</td>\n",
       "      <td>2016-09-14</td>\n",
       "      <td>Intact Male</td>\n",
       "      <td>0.057692</td>\n",
       "      <td>0.0</td>\n",
       "      <td>2016</td>\n",
       "      <td>10</td>\n",
       "    </tr>\n",
       "  </tbody>\n",
       "</table>\n",
       "</div>"
      ],
      "text/plain": [
       "  AnimalID Name_Intake     DateTime_Intake  \\\n",
       "0  A797495         Ace 2019-06-14 11:34:00   \n",
       "1  A801314         NaN 2019-08-02 14:43:00   \n",
       "2  A699842    Princess 2015-05-19 12:33:00   \n",
       "3  A801561        Toby 2019-08-05 18:31:00   \n",
       "4  A792521        Tiny 2019-04-11 16:57:00   \n",
       "5  A667481       Rocco 2013-11-18 17:58:00   \n",
       "6  A773647         NaN 2018-06-04 06:56:00   \n",
       "7  A719762       Rillo 2016-01-27 12:53:00   \n",
       "8  A798690         NaN 2019-06-29 12:20:00   \n",
       "9  A736195         NaN 2016-10-06 13:02:00   \n",
       "\n",
       "                                     FoundLocation       IntakeType  \\\n",
       "0         6814 East Riverside Drive in Austin (TX)            Stray   \n",
       "1          11709 Morning View Drive in Travis (TX)            Stray   \n",
       "2                                      Austin (TX)  Owner Surrender   \n",
       "3               3400 Catalina Drive in Austin (TX)            Stray   \n",
       "4                                      Austin (TX)  Owner Surrender   \n",
       "5                 1700 Ledgewood Dr in Austin (TX)            Stray   \n",
       "6                 4434 Frontier Trl in Austin (TX)            Stray   \n",
       "7                   1515 Grove Blvd in Austin (TX)            Stray   \n",
       "8  Wickham Lane And Etheredge Drive in Austin (TX)            Stray   \n",
       "9                   12112 Scribe Dr in Austin (TX)            Stray   \n",
       "\n",
       "  IntakeCondition AnimalType_Intake  SexuponIntake  AgeuponIntake  \\\n",
       "0          Normal               Dog  Neutered Male       0.250000   \n",
       "1         Nursing               Cat        Unknown       0.038462   \n",
       "2          Normal               Dog  Spayed Female       0.250000   \n",
       "3          Normal               Cat    Intact Male       0.250000   \n",
       "4          Normal               Dog  Intact Female       0.166667   \n",
       "5          Normal               Dog    Intact Male       2.000000   \n",
       "6         Injured              Bird        Unknown       1.000000   \n",
       "7          Normal               Dog  Intact Female       0.076923   \n",
       "8          Normal               Dog    Intact Male       5.000000   \n",
       "9          Normal               Cat    Intact Male       0.057692   \n",
       "\n",
       "                    Breed_Intake       Color_Intake    DateTime_Outcome  \\\n",
       "0                  Cairn Terrier          Black/Tan 2019-06-15 12:44:00   \n",
       "1             Domestic Shorthair       Orange Tabby 2019-08-02 18:22:00   \n",
       "2        Chihuahua Shorthair Mix        White/Brown 2015-05-23 14:03:00   \n",
       "3             Domestic Shorthair        Black/White 2019-09-02 17:22:00   \n",
       "4  Chihuahua Shorthair/Dachshund                Tan 2019-04-13 11:20:00   \n",
       "5                 Rottweiler Mix        Black/Brown 2013-11-20 18:56:00   \n",
       "6                     Quaker Mix         Green/Gray 2018-06-04 13:08:00   \n",
       "7                   Pit Bull Mix    Chocolate/White 2016-01-28 18:37:00   \n",
       "8            Chihuahua Shorthair     Black/Tricolor 2019-07-03 16:51:00   \n",
       "9       Domestic Medium Hair Mix  Brown Tabby/White 2016-10-06 15:39:00   \n",
       "\n",
       "  DateofBirth SexuponOutcome  AgeuponOutcome Result  year  month  \n",
       "0  2019-02-14  Neutered Male        0.250000    0.0  2019      6  \n",
       "1  2019-07-18        Unknown        0.038462    0.0  2019      8  \n",
       "2  2015-01-23  Spayed Female        0.250000    0.0  2015      5  \n",
       "3  2019-04-09  Neutered Male        0.333333    0.0  2019      8  \n",
       "4  2019-01-20  Spayed Female        0.166667    0.0  2019      4  \n",
       "5  2011-11-18  Neutered Male        2.000000    0.0  2013     11  \n",
       "6  2017-06-04        Unknown        1.000000    0.0  2018      6  \n",
       "7  2015-12-27  Intact Female        0.076923    0.0  2016      1  \n",
       "8  2014-06-29  Neutered Male        5.000000    0.0  2019      6  \n",
       "9  2016-09-14    Intact Male        0.057692    0.0  2016     10  "
      ]
     },
     "execution_count": 19,
     "metadata": {},
     "output_type": "execute_result"
    }
   ],
   "source": [
    "df.head(10)"
   ]
  },
  {
   "cell_type": "code",
   "execution_count": 20,
   "metadata": {},
   "outputs": [
    {
     "data": {
      "text/html": [
       "<div>\n",
       "<style scoped>\n",
       "    .dataframe tbody tr th:only-of-type {\n",
       "        vertical-align: middle;\n",
       "    }\n",
       "\n",
       "    .dataframe tbody tr th {\n",
       "        vertical-align: top;\n",
       "    }\n",
       "\n",
       "    .dataframe thead th {\n",
       "        text-align: right;\n",
       "    }\n",
       "</style>\n",
       "<table border=\"1\" class=\"dataframe\">\n",
       "  <thead>\n",
       "    <tr style=\"text-align: right;\">\n",
       "      <th></th>\n",
       "      <th>count</th>\n",
       "      <th>unique</th>\n",
       "      <th>top</th>\n",
       "      <th>freq</th>\n",
       "    </tr>\n",
       "  </thead>\n",
       "  <tbody>\n",
       "    <tr>\n",
       "      <th>IntakeType</th>\n",
       "      <td>1000</td>\n",
       "      <td>6</td>\n",
       "      <td>Stray</td>\n",
       "      <td>699</td>\n",
       "    </tr>\n",
       "    <tr>\n",
       "      <th>IntakeCondition</th>\n",
       "      <td>1000</td>\n",
       "      <td>8</td>\n",
       "      <td>Normal</td>\n",
       "      <td>865</td>\n",
       "    </tr>\n",
       "    <tr>\n",
       "      <th>AnimalType_Intake</th>\n",
       "      <td>1000</td>\n",
       "      <td>5</td>\n",
       "      <td>Dog</td>\n",
       "      <td>536</td>\n",
       "    </tr>\n",
       "    <tr>\n",
       "      <th>SexuponIntake</th>\n",
       "      <td>1000</td>\n",
       "      <td>5</td>\n",
       "      <td>Intact Male</td>\n",
       "      <td>328</td>\n",
       "    </tr>\n",
       "    <tr>\n",
       "      <th>SexuponOutcome</th>\n",
       "      <td>1000</td>\n",
       "      <td>5</td>\n",
       "      <td>Neutered Male</td>\n",
       "      <td>343</td>\n",
       "    </tr>\n",
       "    <tr>\n",
       "      <th>Result</th>\n",
       "      <td>1000</td>\n",
       "      <td>2</td>\n",
       "      <td>0</td>\n",
       "      <td>921</td>\n",
       "    </tr>\n",
       "    <tr>\n",
       "      <th>Breed_Intake</th>\n",
       "      <td>1000</td>\n",
       "      <td>207</td>\n",
       "      <td>Domestic Shorthair Mix</td>\n",
       "      <td>274</td>\n",
       "    </tr>\n",
       "    <tr>\n",
       "      <th>Color_Intake</th>\n",
       "      <td>1000</td>\n",
       "      <td>117</td>\n",
       "      <td>Black/White</td>\n",
       "      <td>123</td>\n",
       "    </tr>\n",
       "  </tbody>\n",
       "</table>\n",
       "</div>"
      ],
      "text/plain": [
       "                  count unique                     top freq\n",
       "IntakeType         1000      6                   Stray  699\n",
       "IntakeCondition    1000      8                  Normal  865\n",
       "AnimalType_Intake  1000      5                     Dog  536\n",
       "SexuponIntake      1000      5             Intact Male  328\n",
       "SexuponOutcome     1000      5           Neutered Male  343\n",
       "Result             1000      2                       0  921\n",
       "Breed_Intake       1000    207  Domestic Shorthair Mix  274\n",
       "Color_Intake       1000    117             Black/White  123"
      ]
     },
     "execution_count": 20,
     "metadata": {},
     "output_type": "execute_result"
    }
   ],
   "source": [
    "#Prepare a table with descriptive statistics for all the category features.\n",
    "\n",
    "df[categorical_values].describe().T"
   ]
  },
  {
   "cell_type": "code",
   "execution_count": 21,
   "metadata": {},
   "outputs": [
    {
     "data": {
      "text/html": [
       "<div>\n",
       "<style scoped>\n",
       "    .dataframe tbody tr th:only-of-type {\n",
       "        vertical-align: middle;\n",
       "    }\n",
       "\n",
       "    .dataframe tbody tr th {\n",
       "        vertical-align: top;\n",
       "    }\n",
       "\n",
       "    .dataframe thead th {\n",
       "        text-align: right;\n",
       "    }\n",
       "</style>\n",
       "<table border=\"1\" class=\"dataframe\">\n",
       "  <thead>\n",
       "    <tr style=\"text-align: right;\">\n",
       "      <th></th>\n",
       "      <th>count</th>\n",
       "      <th>mean</th>\n",
       "      <th>std</th>\n",
       "      <th>min</th>\n",
       "      <th>25%</th>\n",
       "      <th>50%</th>\n",
       "      <th>75%</th>\n",
       "      <th>max</th>\n",
       "    </tr>\n",
       "  </thead>\n",
       "  <tbody>\n",
       "    <tr>\n",
       "      <th>AgeuponIntake</th>\n",
       "      <td>1000.0</td>\n",
       "      <td>2.060484</td>\n",
       "      <td>3.001713</td>\n",
       "      <td>0.00000</td>\n",
       "      <td>0.083333</td>\n",
       "      <td>1.0</td>\n",
       "      <td>2.0</td>\n",
       "      <td>24.0</td>\n",
       "    </tr>\n",
       "    <tr>\n",
       "      <th>AgeuponOutcome</th>\n",
       "      <td>1000.0</td>\n",
       "      <td>2.099283</td>\n",
       "      <td>3.008981</td>\n",
       "      <td>0.00274</td>\n",
       "      <td>0.166667</td>\n",
       "      <td>1.0</td>\n",
       "      <td>2.0</td>\n",
       "      <td>24.0</td>\n",
       "    </tr>\n",
       "    <tr>\n",
       "      <th>year</th>\n",
       "      <td>1000.0</td>\n",
       "      <td>2016.518000</td>\n",
       "      <td>1.837131</td>\n",
       "      <td>2013.00000</td>\n",
       "      <td>2015.000000</td>\n",
       "      <td>2017.0</td>\n",
       "      <td>2018.0</td>\n",
       "      <td>2020.0</td>\n",
       "    </tr>\n",
       "    <tr>\n",
       "      <th>month</th>\n",
       "      <td>1000.0</td>\n",
       "      <td>6.859000</td>\n",
       "      <td>3.300305</td>\n",
       "      <td>1.00000</td>\n",
       "      <td>4.000000</td>\n",
       "      <td>7.0</td>\n",
       "      <td>10.0</td>\n",
       "      <td>12.0</td>\n",
       "    </tr>\n",
       "  </tbody>\n",
       "</table>\n",
       "</div>"
      ],
      "text/plain": [
       "                 count         mean       std         min          25%  \\\n",
       "AgeuponIntake   1000.0     2.060484  3.001713     0.00000     0.083333   \n",
       "AgeuponOutcome  1000.0     2.099283  3.008981     0.00274     0.166667   \n",
       "year            1000.0  2016.518000  1.837131  2013.00000  2015.000000   \n",
       "month           1000.0     6.859000  3.300305     1.00000     4.000000   \n",
       "\n",
       "                   50%     75%     max  \n",
       "AgeuponIntake      1.0     2.0    24.0  \n",
       "AgeuponOutcome     1.0     2.0    24.0  \n",
       "year            2017.0  2018.0  2020.0  \n",
       "month              7.0    10.0    12.0  "
      ]
     },
     "execution_count": 21,
     "metadata": {},
     "output_type": "execute_result"
    }
   ],
   "source": [
    "#Prepare a table with descriptive statistics for all the continuous features.\n",
    "df.describe().T"
   ]
  },
  {
   "cell_type": "code",
   "execution_count": 22,
   "metadata": {},
   "outputs": [
    {
     "data": {
      "text/html": [
       "<div>\n",
       "<style scoped>\n",
       "    .dataframe tbody tr th:only-of-type {\n",
       "        vertical-align: middle;\n",
       "    }\n",
       "\n",
       "    .dataframe tbody tr th {\n",
       "        vertical-align: top;\n",
       "    }\n",
       "\n",
       "    .dataframe thead th {\n",
       "        text-align: right;\n",
       "    }\n",
       "</style>\n",
       "<table border=\"1\" class=\"dataframe\">\n",
       "  <thead>\n",
       "    <tr style=\"text-align: right;\">\n",
       "      <th></th>\n",
       "      <th>%missing</th>\n",
       "    </tr>\n",
       "  </thead>\n",
       "  <tbody>\n",
       "    <tr>\n",
       "      <th>AgeuponIntake</th>\n",
       "      <td>0.0</td>\n",
       "    </tr>\n",
       "    <tr>\n",
       "      <th>AgeuponOutcome</th>\n",
       "      <td>0.0</td>\n",
       "    </tr>\n",
       "  </tbody>\n",
       "</table>\n",
       "</div>"
      ],
      "text/plain": [
       "                %missing\n",
       "AgeuponIntake        0.0\n",
       "AgeuponOutcome       0.0"
      ]
     },
     "execution_count": 22,
     "metadata": {},
     "output_type": "execute_result"
    }
   ],
   "source": [
    "# df.count() gives the number of rows with non-NAN feature value\n",
    "# Instead of df.isnull().sum() we can use the functions df.shape and df.count()\n",
    "# numeric_columns_missing = df.shape[0] - df[numeric_columns].count()\n",
    "\n",
    "# Prepare %missing column\n",
    "numeric_columns_missing  = 100 * (df[numeric_columns].isnull().sum()/df.shape[0])\n",
    "# store the values in a dataframe\n",
    "df_numeric_missing = pd.DataFrame(numeric_columns_missing, columns=['%missing'])\n",
    "df_numeric_missing"
   ]
  },
  {
   "cell_type": "code",
   "execution_count": 23,
   "metadata": {},
   "outputs": [
    {
     "data": {
      "text/html": [
       "<div>\n",
       "<style scoped>\n",
       "    .dataframe tbody tr th:only-of-type {\n",
       "        vertical-align: middle;\n",
       "    }\n",
       "\n",
       "    .dataframe tbody tr th {\n",
       "        vertical-align: top;\n",
       "    }\n",
       "\n",
       "    .dataframe thead th {\n",
       "        text-align: right;\n",
       "    }\n",
       "</style>\n",
       "<table border=\"1\" class=\"dataframe\">\n",
       "  <thead>\n",
       "    <tr style=\"text-align: right;\">\n",
       "      <th></th>\n",
       "      <th>%missing</th>\n",
       "    </tr>\n",
       "  </thead>\n",
       "  <tbody>\n",
       "    <tr>\n",
       "      <th>IntakeType</th>\n",
       "      <td>0.0</td>\n",
       "    </tr>\n",
       "    <tr>\n",
       "      <th>IntakeCondition</th>\n",
       "      <td>0.0</td>\n",
       "    </tr>\n",
       "    <tr>\n",
       "      <th>AnimalType_Intake</th>\n",
       "      <td>0.0</td>\n",
       "    </tr>\n",
       "    <tr>\n",
       "      <th>SexuponIntake</th>\n",
       "      <td>0.0</td>\n",
       "    </tr>\n",
       "    <tr>\n",
       "      <th>Breed_Intake</th>\n",
       "      <td>0.0</td>\n",
       "    </tr>\n",
       "    <tr>\n",
       "      <th>Color_Intake</th>\n",
       "      <td>0.0</td>\n",
       "    </tr>\n",
       "    <tr>\n",
       "      <th>SexuponOutcome</th>\n",
       "      <td>0.0</td>\n",
       "    </tr>\n",
       "    <tr>\n",
       "      <th>Result</th>\n",
       "      <td>0.0</td>\n",
       "    </tr>\n",
       "  </tbody>\n",
       "</table>\n",
       "</div>"
      ],
      "text/plain": [
       "                   %missing\n",
       "IntakeType              0.0\n",
       "IntakeCondition         0.0\n",
       "AnimalType_Intake       0.0\n",
       "SexuponIntake           0.0\n",
       "Breed_Intake            0.0\n",
       "Color_Intake            0.0\n",
       "SexuponOutcome          0.0\n",
       "Result                  0.0"
      ]
     },
     "execution_count": 23,
     "metadata": {},
     "output_type": "execute_result"
    }
   ],
   "source": [
    "# Prepare %missing column\n",
    "category_columns_perc_missing  = 100 * (df[category_columns].isnull().sum()/df.shape[0])\n",
    "#category_columns_perc_missing\n",
    "\n",
    "# Store the values in a dataframe\n",
    "df_category_perc_missing = pd.DataFrame(category_columns_perc_missing, columns=['%missing'])\n",
    "df_category_perc_missing"
   ]
  },
  {
   "cell_type": "code",
   "execution_count": 24,
   "metadata": {},
   "outputs": [
    {
     "data": {
      "text/html": [
       "<div>\n",
       "<style scoped>\n",
       "    .dataframe tbody tr th:only-of-type {\n",
       "        vertical-align: middle;\n",
       "    }\n",
       "\n",
       "    .dataframe tbody tr th {\n",
       "        vertical-align: top;\n",
       "    }\n",
       "\n",
       "    .dataframe thead th {\n",
       "        text-align: right;\n",
       "    }\n",
       "</style>\n",
       "<table border=\"1\" class=\"dataframe\">\n",
       "  <thead>\n",
       "    <tr style=\"text-align: right;\">\n",
       "      <th></th>\n",
       "      <th>card</th>\n",
       "    </tr>\n",
       "  </thead>\n",
       "  <tbody>\n",
       "    <tr>\n",
       "      <th>AgeuponIntake</th>\n",
       "      <td>38</td>\n",
       "    </tr>\n",
       "    <tr>\n",
       "      <th>AgeuponOutcome</th>\n",
       "      <td>38</td>\n",
       "    </tr>\n",
       "  </tbody>\n",
       "</table>\n",
       "</div>"
      ],
      "text/plain": [
       "                card\n",
       "AgeuponIntake     38\n",
       "AgeuponOutcome    38"
      ]
     },
     "execution_count": 24,
     "metadata": {},
     "output_type": "execute_result"
    }
   ],
   "source": [
    "# Add cardinality column\n",
    "# A simpler way to get the number of unique values per feature\n",
    "numeric_columns_card = df[numeric_columns].nunique()\n",
    "# store the values in a dataframe\n",
    "df_numeric_card = pd.DataFrame(numeric_columns_card, columns=['card'])\n",
    "df_numeric_card"
   ]
  },
  {
   "cell_type": "code",
   "execution_count": 25,
   "metadata": {},
   "outputs": [
    {
     "data": {
      "text/html": [
       "<div>\n",
       "<style scoped>\n",
       "    .dataframe tbody tr th:only-of-type {\n",
       "        vertical-align: middle;\n",
       "    }\n",
       "\n",
       "    .dataframe tbody tr th {\n",
       "        vertical-align: top;\n",
       "    }\n",
       "\n",
       "    .dataframe thead th {\n",
       "        text-align: right;\n",
       "    }\n",
       "</style>\n",
       "<table border=\"1\" class=\"dataframe\">\n",
       "  <thead>\n",
       "    <tr style=\"text-align: right;\">\n",
       "      <th></th>\n",
       "      <th>card</th>\n",
       "    </tr>\n",
       "  </thead>\n",
       "  <tbody>\n",
       "    <tr>\n",
       "      <th>IntakeType</th>\n",
       "      <td>6</td>\n",
       "    </tr>\n",
       "    <tr>\n",
       "      <th>IntakeCondition</th>\n",
       "      <td>8</td>\n",
       "    </tr>\n",
       "    <tr>\n",
       "      <th>AnimalType_Intake</th>\n",
       "      <td>5</td>\n",
       "    </tr>\n",
       "    <tr>\n",
       "      <th>SexuponIntake</th>\n",
       "      <td>5</td>\n",
       "    </tr>\n",
       "    <tr>\n",
       "      <th>Breed_Intake</th>\n",
       "      <td>207</td>\n",
       "    </tr>\n",
       "    <tr>\n",
       "      <th>Color_Intake</th>\n",
       "      <td>117</td>\n",
       "    </tr>\n",
       "    <tr>\n",
       "      <th>SexuponOutcome</th>\n",
       "      <td>5</td>\n",
       "    </tr>\n",
       "    <tr>\n",
       "      <th>Result</th>\n",
       "      <td>2</td>\n",
       "    </tr>\n",
       "  </tbody>\n",
       "</table>\n",
       "</div>"
      ],
      "text/plain": [
       "                   card\n",
       "IntakeType            6\n",
       "IntakeCondition       8\n",
       "AnimalType_Intake     5\n",
       "SexuponIntake         5\n",
       "Breed_Intake        207\n",
       "Color_Intake        117\n",
       "SexuponOutcome        5\n",
       "Result                2"
      ]
     },
     "execution_count": 25,
     "metadata": {},
     "output_type": "execute_result"
    }
   ],
   "source": [
    "# Prepare the cardinality column\n",
    "category_columns_card = df[category_columns].nunique()\n",
    "# store the values in a dataframe\n",
    "df_category_card = pd.DataFrame(category_columns_card, columns=['card'])\n",
    "df_category_card\n"
   ]
  },
  {
   "cell_type": "code",
   "execution_count": 26,
   "metadata": {},
   "outputs": [
    {
     "data": {
      "text/html": [
       "<div>\n",
       "<style scoped>\n",
       "    .dataframe tbody tr th:only-of-type {\n",
       "        vertical-align: middle;\n",
       "    }\n",
       "\n",
       "    .dataframe tbody tr th {\n",
       "        vertical-align: top;\n",
       "    }\n",
       "\n",
       "    .dataframe thead th {\n",
       "        text-align: right;\n",
       "    }\n",
       "</style>\n",
       "<table border=\"1\" class=\"dataframe\">\n",
       "  <thead>\n",
       "    <tr style=\"text-align: right;\">\n",
       "      <th></th>\n",
       "      <th>count</th>\n",
       "      <th>mean</th>\n",
       "      <th>std</th>\n",
       "      <th>min</th>\n",
       "      <th>25%</th>\n",
       "      <th>50%</th>\n",
       "      <th>75%</th>\n",
       "      <th>max</th>\n",
       "      <th>card</th>\n",
       "    </tr>\n",
       "  </thead>\n",
       "  <tbody>\n",
       "    <tr>\n",
       "      <th>AgeuponIntake</th>\n",
       "      <td>1000.0</td>\n",
       "      <td>2.060484</td>\n",
       "      <td>3.001713</td>\n",
       "      <td>0.00000</td>\n",
       "      <td>0.083333</td>\n",
       "      <td>1.0</td>\n",
       "      <td>2.0</td>\n",
       "      <td>24.0</td>\n",
       "      <td>38</td>\n",
       "    </tr>\n",
       "    <tr>\n",
       "      <th>AgeuponOutcome</th>\n",
       "      <td>1000.0</td>\n",
       "      <td>2.099283</td>\n",
       "      <td>3.008981</td>\n",
       "      <td>0.00274</td>\n",
       "      <td>0.166667</td>\n",
       "      <td>1.0</td>\n",
       "      <td>2.0</td>\n",
       "      <td>24.0</td>\n",
       "      <td>38</td>\n",
       "    </tr>\n",
       "  </tbody>\n",
       "</table>\n",
       "</div>"
      ],
      "text/plain": [
       "                 count      mean       std      min       25%  50%  75%   max  \\\n",
       "AgeuponIntake   1000.0  2.060484  3.001713  0.00000  0.083333  1.0  2.0  24.0   \n",
       "AgeuponOutcome  1000.0  2.099283  3.008981  0.00274  0.166667  1.0  2.0  24.0   \n",
       "\n",
       "                card  \n",
       "AgeuponIntake     38  \n",
       "AgeuponOutcome    38  "
      ]
     },
     "execution_count": 26,
     "metadata": {},
     "output_type": "execute_result"
    }
   ],
   "source": [
    "# Add cardinality values column\n",
    "df_table_numeric = df[numeric_columns].describe().T\n",
    "\n",
    "# Put the columns together to prepare the final table for numeric_columns\n",
    "df_numeric_columns_data_quality_report_table = pd.concat([df_table_numeric, df_numeric_card], axis=1)\n",
    "\n",
    "# Print data quality report table for numeric features to a file.\n",
    "df_numeric_columns_data_quality_report_table.to_csv(\"AnimalWelfare-NumericalFeatures.csv\", \n",
    "                                         index_label='Feature')\n",
    "df_numeric_columns_data_quality_report_table"
   ]
  },
  {
   "cell_type": "code",
   "execution_count": 27,
   "metadata": {},
   "outputs": [
    {
     "data": {
      "text/html": [
       "<div>\n",
       "<style scoped>\n",
       "    .dataframe tbody tr th:only-of-type {\n",
       "        vertical-align: middle;\n",
       "    }\n",
       "\n",
       "    .dataframe tbody tr th {\n",
       "        vertical-align: top;\n",
       "    }\n",
       "\n",
       "    .dataframe thead th {\n",
       "        text-align: right;\n",
       "    }\n",
       "</style>\n",
       "<table border=\"1\" class=\"dataframe\">\n",
       "  <thead>\n",
       "    <tr style=\"text-align: right;\">\n",
       "      <th></th>\n",
       "      <th>count</th>\n",
       "      <th>unique</th>\n",
       "      <th>top</th>\n",
       "      <th>freq</th>\n",
       "      <th>card</th>\n",
       "    </tr>\n",
       "  </thead>\n",
       "  <tbody>\n",
       "    <tr>\n",
       "      <th>IntakeType</th>\n",
       "      <td>1000</td>\n",
       "      <td>6</td>\n",
       "      <td>Stray</td>\n",
       "      <td>699</td>\n",
       "      <td>6</td>\n",
       "    </tr>\n",
       "    <tr>\n",
       "      <th>IntakeCondition</th>\n",
       "      <td>1000</td>\n",
       "      <td>8</td>\n",
       "      <td>Normal</td>\n",
       "      <td>865</td>\n",
       "      <td>8</td>\n",
       "    </tr>\n",
       "    <tr>\n",
       "      <th>AnimalType_Intake</th>\n",
       "      <td>1000</td>\n",
       "      <td>5</td>\n",
       "      <td>Dog</td>\n",
       "      <td>536</td>\n",
       "      <td>5</td>\n",
       "    </tr>\n",
       "    <tr>\n",
       "      <th>SexuponIntake</th>\n",
       "      <td>1000</td>\n",
       "      <td>5</td>\n",
       "      <td>Intact Male</td>\n",
       "      <td>328</td>\n",
       "      <td>5</td>\n",
       "    </tr>\n",
       "    <tr>\n",
       "      <th>Breed_Intake</th>\n",
       "      <td>1000</td>\n",
       "      <td>207</td>\n",
       "      <td>Domestic Shorthair Mix</td>\n",
       "      <td>274</td>\n",
       "      <td>207</td>\n",
       "    </tr>\n",
       "    <tr>\n",
       "      <th>Color_Intake</th>\n",
       "      <td>1000</td>\n",
       "      <td>117</td>\n",
       "      <td>Black/White</td>\n",
       "      <td>123</td>\n",
       "      <td>117</td>\n",
       "    </tr>\n",
       "    <tr>\n",
       "      <th>SexuponOutcome</th>\n",
       "      <td>1000</td>\n",
       "      <td>5</td>\n",
       "      <td>Neutered Male</td>\n",
       "      <td>343</td>\n",
       "      <td>5</td>\n",
       "    </tr>\n",
       "    <tr>\n",
       "      <th>Result</th>\n",
       "      <td>1000</td>\n",
       "      <td>2</td>\n",
       "      <td>0</td>\n",
       "      <td>921</td>\n",
       "      <td>2</td>\n",
       "    </tr>\n",
       "  </tbody>\n",
       "</table>\n",
       "</div>"
      ],
      "text/plain": [
       "                  count unique                     top freq  card\n",
       "IntakeType         1000      6                   Stray  699     6\n",
       "IntakeCondition    1000      8                  Normal  865     8\n",
       "AnimalType_Intake  1000      5                     Dog  536     5\n",
       "SexuponIntake      1000      5             Intact Male  328     5\n",
       "Breed_Intake       1000    207  Domestic Shorthair Mix  274   207\n",
       "Color_Intake       1000    117             Black/White  123   117\n",
       "SexuponOutcome     1000      5           Neutered Male  343     5\n",
       "Result             1000      2                       0  921     2"
      ]
     },
     "execution_count": 27,
     "metadata": {},
     "output_type": "execute_result"
    }
   ],
   "source": [
    "# Add cardinality values column\n",
    "df_table_categ = df[category_columns].describe().T\n",
    "# Put the columns together to prepare the final table for numeric_columns\n",
    "df_category_columns_data_quality_report_table = pd.concat([df_table_categ, df_category_card], axis=1)\n",
    "\n",
    "# Print data quality report table for categorical features to a file.\n",
    "# The file will be created in the current folder where jupyter notebook is run from.\n",
    "df_category_columns_data_quality_report_table.to_csv(\"AnimalWelfare-CategoryFeatures-Table.csv\", \n",
    "                                         index_label='Feature')\n",
    "df_category_columns_data_quality_report_table"
   ]
  },
  {
   "cell_type": "markdown",
   "metadata": {},
   "source": [
    "## Data Quality Report: Visualisations\n",
    "\n",
    "In this section we plot histograms and boxplots for numeric features and barplots for numeric and categorical features."
   ]
  },
  {
   "cell_type": "code",
   "execution_count": 28,
   "metadata": {},
   "outputs": [
    {
     "data": {
      "text/plain": [
       "<Figure size 432x288 with 0 Axes>"
      ]
     },
     "metadata": {},
     "output_type": "display_data"
    },
    {
     "data": {
      "image/png": "[encoded data removed]",
      "text/plain": [
       "<Figure size 720x720 with 4 Axes>"
      ]
     },
     "metadata": {
      "needs_background": "light"
     },
     "output_type": "display_data"
    }
   ],
   "source": [
    "plt.figure()\n",
    "df.hist(figsize=(10, 10), xrot = 45)\n",
    "# We can save the plot into a file as shown below.\n",
    "plt.savefig('AnimalWelfare-NumericFeatures-histograms-1-1.png')"
   ]
  },
  {
   "cell_type": "code",
   "execution_count": 29,
   "metadata": {
    "scrolled": false
   },
   "outputs": [
    {
     "data": {
      "image/png": "[encoded data removed]",
      "text/plain": [
       "<Figure size 720x360 with 1 Axes>"
      ]
     },
     "metadata": {
      "needs_background": "light"
     },
     "output_type": "display_data"
    },
    {
     "data": {
      "image/png": "[encoded data removed]",
      "text/plain": [
       "<Figure size 720x360 with 1 Axes>"
      ]
     },
     "metadata": {
      "needs_background": "light"
     },
     "output_type": "display_data"
    },
    {
     "data": {
      "image/png": "[encoded data removed]",
      "text/plain": [
       "<Figure size 720x360 with 1 Axes>"
      ]
     },
     "metadata": {
      "needs_background": "light"
     },
     "output_type": "display_data"
    },
    {
     "data": {
      "image/png": "[encoded data removed]",
      "text/plain": [
       "<Figure size 720x360 with 1 Axes>"
      ]
     },
     "metadata": {
      "needs_background": "light"
     },
     "output_type": "display_data"
    },
    {
     "data": {
      "image/png": "[encoded data removed]",
      "text/plain": [
       "<Figure size 720x360 with 1 Axes>"
      ]
     },
     "metadata": {
      "needs_background": "light"
     },
     "output_type": "display_data"
    },
    {
     "data": {
      "image/png": "[encoded data removed]",
      "text/plain": [
       "<Figure size 720x360 with 1 Axes>"
      ]
     },
     "metadata": {
      "needs_background": "light"
     },
     "output_type": "display_data"
    },
    {
     "data": {
      "image/png": "[encoded data removed]",
      "text/plain": [
       "<Figure size 720x360 with 1 Axes>"
      ]
     },
     "metadata": {
      "needs_background": "light"
     },
     "output_type": "display_data"
    },
    {
     "data": {
      "image/png": "[encoded data removed]",
      "text/plain": [
       "<Figure size 720x360 with 1 Axes>"
      ]
     },
     "metadata": {
      "needs_background": "light"
     },
     "output_type": "display_data"
    }
   ],
   "source": [
    "# Plot bar charts for all categorical features and save them in a single PDF file\n",
    "pp = PdfPages('category_bar_charts.pdf')\n",
    "\n",
    "for column in category_columns:\n",
    "    f = df[column].value_counts(dropna=False)[:30].plot(kind='bar', title=column, figsize=(10,5))\n",
    "    pp.savefig(f.get_figure())\n",
    "    plt.show()\n",
    "\n",
    "pp.close()"
   ]
  },
  {
   "cell_type": "code",
   "execution_count": 30,
   "metadata": {
    "scrolled": true
   },
   "outputs": [
    {
     "data": {
      "image/png": "[encoded data removed]",
      "text/plain": [
       "<Figure size 2160x2160 with 24 Axes>"
      ]
     },
     "metadata": {
      "needs_background": "light"
     },
     "output_type": "display_data"
    }
   ],
   "source": [
    "#Plot histograms for all the continuous features.\n",
    "\n",
    "df[numeric_columns].plot(kind='box', subplots=True, figsize=(30,30), layout=(6,4), sharex=False, sharey=False)\n",
    "plt.savefig('continuous_features.pdf')\n",
    "\n",
    "\n"
   ]
  },
  {
   "cell_type": "markdown",
   "metadata": {},
   "source": [
    "## Task 2 : Data Understanding: Data Quality Plan\n",
    "In this section we list all features and the observations and actions involving those features, as a step towards obtaining a cleaner dataset."
   ]
  },
  {
   "cell_type": "markdown",
   "metadata": {},
   "source": [
    "### - Mark down all the features where there are potential problems or data quality issues.\n",
    "\n",
    "The initial list of issues as identified in the **Data_Quality_Report_Initial_Findings.pdf**:\n",
    "\n",
    "* For name_intake huge number of missing values\n",
    "* For found location there is very high cardinality.\n",
    "* For breed intake has very high cardinality will use top 5 frequent categories.\n",
    "* The outliers looks ( the age upon intake) need to be investigate.\n",
    "* Two added column month and year , can be use to predict the weather and outbreak at any particular year (disease which got viral).\n",
    "\n"
   ]
  },
  {
   "cell_type": "markdown",
   "metadata": {},
   "source": [
    "## To check the null values and droping the unnecessary columns."
   ]
  },
  {
   "cell_type": "code",
   "execution_count": 31,
   "metadata": {},
   "outputs": [],
   "source": [
    "# Keep a copy of the original data\n",
    "df_raw = df.copy()"
   ]
  },
  {
   "cell_type": "code",
   "execution_count": 32,
   "metadata": {
    "scrolled": false
   },
   "outputs": [
    {
     "data": {
      "text/plain": [
       "AnimalID               0\n",
       "Name_Intake          360\n",
       "DateTime_Intake        0\n",
       "FoundLocation          0\n",
       "IntakeType             0\n",
       "IntakeCondition        0\n",
       "AnimalType_Intake      0\n",
       "SexuponIntake          0\n",
       "AgeuponIntake          0\n",
       "Breed_Intake           0\n",
       "Color_Intake           0\n",
       "DateTime_Outcome       0\n",
       "DateofBirth            0\n",
       "SexuponOutcome         0\n",
       "AgeuponOutcome         0\n",
       "Result                 0\n",
       "year                   0\n",
       "month                  0\n",
       "dtype: int64"
      ]
     },
     "execution_count": 32,
     "metadata": {},
     "output_type": "execute_result"
    }
   ],
   "source": [
    "df.isnull().sum() # to find the null values "
   ]
  },
  {
   "cell_type": "markdown",
   "metadata": {},
   "source": [
    "### Propose solutions to deal with the problems identified. Explain why did you choose one solution over potentially many other.\n",
    "\n",
    "As data assortment is a costly and additionally tedious procedure, it is the primary need to consistently attempt to keep however much unique information flawless as could be expected before making any cuts or modifications.Belows are based on the principle of data preservation:\n",
    "\n",
    "- **name intake feature has many missing qualities and is a repetitive section. This gives us no helpful information.** \n",
    "\n",
    "About 40% of qualities are absent, as there is no valuable data (extra unneccessary id for the animal), this column will be dropped.\n",
    "\n",
    "- **Found location has a very high cardinality .**\n",
    "\n",
    "For found location there is exceptionally high cardinality. This won't generally help that much as far as our concern of this dataset. Along these lines, this column will be dropped. \n",
    "\n",
    "- **Breed intake has alot of unique values.**\n",
    "breed intake has alot of overlapping/cardinality. There are 219 unique values out of 1000. I will sort and pick the top 5-10 values and remaining as others.\n",
    "\n",
    "- **Color intake has alot of unique values.**\n",
    "Color intake has a high cardinality.Same as breed intake use the most frequent and rest I will use as others.\n",
    "\n",
    "- **the outliers in the box plots (age upon intake) should be further investigated here.**\n",
    " \n",
    " Three ways to dael outliers.\n",
    " \n",
    "- Univariate method: This method looks for data points with extreme values on one variable.\n",
    "- Multivariate method: Here we look for unusual combinations on all the variables.\n",
    "- Minkowski error: This method reduces the contribution of potential outliers in the training process.\n"
   ]
  },
  {
   "cell_type": "code",
   "execution_count": 33,
   "metadata": {},
   "outputs": [],
   "source": [
    "del df['Name_Intake'] # deleting the unnecessary"
   ]
  },
  {
   "cell_type": "code",
   "execution_count": 34,
   "metadata": {},
   "outputs": [
    {
     "data": {
      "text/html": [
       "<div>\n",
       "<style scoped>\n",
       "    .dataframe tbody tr th:only-of-type {\n",
       "        vertical-align: middle;\n",
       "    }\n",
       "\n",
       "    .dataframe tbody tr th {\n",
       "        vertical-align: top;\n",
       "    }\n",
       "\n",
       "    .dataframe thead th {\n",
       "        text-align: right;\n",
       "    }\n",
       "</style>\n",
       "<table border=\"1\" class=\"dataframe\">\n",
       "  <thead>\n",
       "    <tr style=\"text-align: right;\">\n",
       "      <th></th>\n",
       "      <th>AnimalID</th>\n",
       "      <th>DateTime_Intake</th>\n",
       "      <th>IntakeType</th>\n",
       "      <th>IntakeCondition</th>\n",
       "      <th>AnimalType_Intake</th>\n",
       "      <th>SexuponIntake</th>\n",
       "      <th>AgeuponIntake</th>\n",
       "      <th>Breed_Intake</th>\n",
       "      <th>Color_Intake</th>\n",
       "      <th>DateTime_Outcome</th>\n",
       "      <th>DateofBirth</th>\n",
       "      <th>SexuponOutcome</th>\n",
       "      <th>AgeuponOutcome</th>\n",
       "      <th>Result</th>\n",
       "      <th>year</th>\n",
       "      <th>month</th>\n",
       "    </tr>\n",
       "  </thead>\n",
       "  <tbody>\n",
       "    <tr>\n",
       "      <th>0</th>\n",
       "      <td>A797495</td>\n",
       "      <td>2019-06-14 11:34:00</td>\n",
       "      <td>Stray</td>\n",
       "      <td>Normal</td>\n",
       "      <td>Dog</td>\n",
       "      <td>Neutered Male</td>\n",
       "      <td>0.250000</td>\n",
       "      <td>Cairn Terrier</td>\n",
       "      <td>Black/Tan</td>\n",
       "      <td>2019-06-15 12:44:00</td>\n",
       "      <td>2019-02-14</td>\n",
       "      <td>Neutered Male</td>\n",
       "      <td>0.250000</td>\n",
       "      <td>0.0</td>\n",
       "      <td>2019</td>\n",
       "      <td>6</td>\n",
       "    </tr>\n",
       "    <tr>\n",
       "      <th>1</th>\n",
       "      <td>A801314</td>\n",
       "      <td>2019-08-02 14:43:00</td>\n",
       "      <td>Stray</td>\n",
       "      <td>Nursing</td>\n",
       "      <td>Cat</td>\n",
       "      <td>Unknown</td>\n",
       "      <td>0.038462</td>\n",
       "      <td>Domestic Shorthair</td>\n",
       "      <td>Orange Tabby</td>\n",
       "      <td>2019-08-02 18:22:00</td>\n",
       "      <td>2019-07-18</td>\n",
       "      <td>Unknown</td>\n",
       "      <td>0.038462</td>\n",
       "      <td>0.0</td>\n",
       "      <td>2019</td>\n",
       "      <td>8</td>\n",
       "    </tr>\n",
       "    <tr>\n",
       "      <th>2</th>\n",
       "      <td>A699842</td>\n",
       "      <td>2015-05-19 12:33:00</td>\n",
       "      <td>Owner Surrender</td>\n",
       "      <td>Normal</td>\n",
       "      <td>Dog</td>\n",
       "      <td>Spayed Female</td>\n",
       "      <td>0.250000</td>\n",
       "      <td>Chihuahua Shorthair Mix</td>\n",
       "      <td>White/Brown</td>\n",
       "      <td>2015-05-23 14:03:00</td>\n",
       "      <td>2015-01-23</td>\n",
       "      <td>Spayed Female</td>\n",
       "      <td>0.250000</td>\n",
       "      <td>0.0</td>\n",
       "      <td>2015</td>\n",
       "      <td>5</td>\n",
       "    </tr>\n",
       "    <tr>\n",
       "      <th>3</th>\n",
       "      <td>A801561</td>\n",
       "      <td>2019-08-05 18:31:00</td>\n",
       "      <td>Stray</td>\n",
       "      <td>Normal</td>\n",
       "      <td>Cat</td>\n",
       "      <td>Intact Male</td>\n",
       "      <td>0.250000</td>\n",
       "      <td>Domestic Shorthair</td>\n",
       "      <td>Black/White</td>\n",
       "      <td>2019-09-02 17:22:00</td>\n",
       "      <td>2019-04-09</td>\n",
       "      <td>Neutered Male</td>\n",
       "      <td>0.333333</td>\n",
       "      <td>0.0</td>\n",
       "      <td>2019</td>\n",
       "      <td>8</td>\n",
       "    </tr>\n",
       "    <tr>\n",
       "      <th>4</th>\n",
       "      <td>A792521</td>\n",
       "      <td>2019-04-11 16:57:00</td>\n",
       "      <td>Owner Surrender</td>\n",
       "      <td>Normal</td>\n",
       "      <td>Dog</td>\n",
       "      <td>Intact Female</td>\n",
       "      <td>0.166667</td>\n",
       "      <td>Chihuahua Shorthair/Dachshund</td>\n",
       "      <td>Tan</td>\n",
       "      <td>2019-04-13 11:20:00</td>\n",
       "      <td>2019-01-20</td>\n",
       "      <td>Spayed Female</td>\n",
       "      <td>0.166667</td>\n",
       "      <td>0.0</td>\n",
       "      <td>2019</td>\n",
       "      <td>4</td>\n",
       "    </tr>\n",
       "  </tbody>\n",
       "</table>\n",
       "</div>"
      ],
      "text/plain": [
       "  AnimalID     DateTime_Intake       IntakeType IntakeCondition  \\\n",
       "0  A797495 2019-06-14 11:34:00            Stray          Normal   \n",
       "1  A801314 2019-08-02 14:43:00            Stray         Nursing   \n",
       "2  A699842 2015-05-19 12:33:00  Owner Surrender          Normal   \n",
       "3  A801561 2019-08-05 18:31:00            Stray          Normal   \n",
       "4  A792521 2019-04-11 16:57:00  Owner Surrender          Normal   \n",
       "\n",
       "  AnimalType_Intake  SexuponIntake  AgeuponIntake  \\\n",
       "0               Dog  Neutered Male       0.250000   \n",
       "1               Cat        Unknown       0.038462   \n",
       "2               Dog  Spayed Female       0.250000   \n",
       "3               Cat    Intact Male       0.250000   \n",
       "4               Dog  Intact Female       0.166667   \n",
       "\n",
       "                    Breed_Intake  Color_Intake    DateTime_Outcome  \\\n",
       "0                  Cairn Terrier     Black/Tan 2019-06-15 12:44:00   \n",
       "1             Domestic Shorthair  Orange Tabby 2019-08-02 18:22:00   \n",
       "2        Chihuahua Shorthair Mix   White/Brown 2015-05-23 14:03:00   \n",
       "3             Domestic Shorthair   Black/White 2019-09-02 17:22:00   \n",
       "4  Chihuahua Shorthair/Dachshund           Tan 2019-04-13 11:20:00   \n",
       "\n",
       "  DateofBirth SexuponOutcome  AgeuponOutcome Result  year  month  \n",
       "0  2019-02-14  Neutered Male        0.250000    0.0  2019      6  \n",
       "1  2019-07-18        Unknown        0.038462    0.0  2019      8  \n",
       "2  2015-01-23  Spayed Female        0.250000    0.0  2015      5  \n",
       "3  2019-04-09  Neutered Male        0.333333    0.0  2019      8  \n",
       "4  2019-01-20  Spayed Female        0.166667    0.0  2019      4  "
      ]
     },
     "execution_count": 34,
     "metadata": {},
     "output_type": "execute_result"
    }
   ],
   "source": [
    "del df['FoundLocation'] # deleting the unnecessary\n",
    "df.head()"
   ]
  },
  {
   "cell_type": "code",
   "execution_count": 35,
   "metadata": {
    "scrolled": false
   },
   "outputs": [
    {
     "name": "stdout",
     "output_type": "stream",
     "text": [
      "Frequency of  IntakeType :\n",
      "Stray                 699\n",
      "Owner Surrender       196\n",
      "Public Assist          65\n",
      "Wildlife               36\n",
      "Euthanasia Request      3\n",
      "Abandoned               1\n",
      "Name: IntakeType, dtype: int64 \n",
      "\n",
      "Frequency of  IntakeCondition :\n",
      "Normal      865\n",
      "Injured      51\n",
      "Sick         41\n",
      "Nursing      34\n",
      "Other         3\n",
      "Aged          3\n",
      "Feral         2\n",
      "Pregnant      1\n",
      "Name: IntakeCondition, dtype: int64 \n",
      "\n",
      "Frequency of  AnimalType_Intake :\n",
      "Dog          536\n",
      "Cat          409\n",
      "Other         49\n",
      "Bird           5\n",
      "Livestock      1\n",
      "Name: AnimalType_Intake, dtype: int64 \n",
      "\n",
      "Frequency of  SexuponIntake :\n",
      "Intact Male      328\n",
      "Intact Female    307\n",
      "Neutered Male    152\n",
      "Spayed Female    126\n",
      "Unknown           87\n",
      "Name: SexuponIntake, dtype: int64 \n",
      "\n",
      "Frequency of  SexuponOutcome :\n",
      "Neutered Male    343\n",
      "Spayed Female    301\n",
      "Intact Male      137\n",
      "Intact Female    132\n",
      "Unknown           87\n",
      "Name: SexuponOutcome, dtype: int64 \n",
      "\n",
      "Frequency of  Result :\n",
      "0.0    921\n",
      "1.0     79\n",
      "Name: Result, dtype: int64 \n",
      "\n",
      "Frequency of  Breed_Intake :\n",
      "Domestic Shorthair Mix       274\n",
      "Labrador Retriever Mix        66\n",
      "Pit Bull Mix                  64\n",
      "Chihuahua Shorthair Mix       51\n",
      "Domestic Shorthair            50\n",
      "Domestic Medium Hair Mix      34\n",
      "German Shepherd Mix           24\n",
      "Siamese Mix                   21\n",
      "Domestic Longhair Mix         13\n",
      "Australian Cattle Dog Mix     12\n",
      "Bat Mix                       11\n",
      "Border Collie Mix             11\n",
      "Boxer Mix                      9\n",
      "Labrador Retriever             8\n",
      "Staffordshire Mix              8\n",
      "Name: Breed_Intake, dtype: int64 \n",
      "\n",
      "Frequency of  Color_Intake :\n",
      "Black/White          123\n",
      "Black                103\n",
      "Brown Tabby           65\n",
      "White                 42\n",
      "Orange Tabby          33\n",
      "Brown/White           32\n",
      "Tan                   31\n",
      "Tan/White             29\n",
      "Brown                 28\n",
      "Brown Tabby/White     24\n",
      "White/Black           23\n",
      "Blue/White            23\n",
      "Calico                21\n",
      "White/Brown           21\n",
      "Tortie                20\n",
      "Name: Color_Intake, dtype: int64 \n",
      "\n"
     ]
    }
   ],
   "source": [
    "# frequnecies of the elements in categorical features.\n",
    "\n",
    "for i in categorical_values:\n",
    "    frequency = df[i].value_counts().head(15)\n",
    "    print(\"Frequency of \",i,\":\")\n",
    "    print(frequency,'\\n')"
   ]
  },
  {
   "cell_type": "code",
   "execution_count": 36,
   "metadata": {},
   "outputs": [
    {
     "data": {
      "text/plain": [
       "Index(['AnimalID', 'DateTime_Intake', 'IntakeType', 'IntakeCondition',\n",
       "       'AnimalType_Intake', 'SexuponIntake', 'AgeuponIntake', 'Breed_Intake',\n",
       "       'Color_Intake', 'DateTime_Outcome', 'DateofBirth', 'SexuponOutcome',\n",
       "       'AgeuponOutcome', 'Result', 'year', 'month'],\n",
       "      dtype='object')"
      ]
     },
     "execution_count": 36,
     "metadata": {},
     "output_type": "execute_result"
    }
   ],
   "source": [
    "df.columns"
   ]
  },
  {
   "cell_type": "markdown",
   "metadata": {},
   "source": [
    "### Most of the animals are either dog or cat. So, will create a diffrent data set as Dog and Cat for further operations.\n",
    "\n",
    "We will first take the Animal type( Dog , Cat , Other) as a data set and the in that data set will divide on the basis of sex and each sex will get divided into all the remaining categorical feature and will analyse taking result (0 - Alive or 1 - Dead) as reference"
   ]
  },
  {
   "cell_type": "code",
   "execution_count": 37,
   "metadata": {
    "scrolled": true
   },
   "outputs": [
    {
     "data": {
      "text/plain": [
       "Labrador Retriever Mix       66\n",
       "Pit Bull Mix                 64\n",
       "Chihuahua Shorthair Mix      51\n",
       "German Shepherd Mix          24\n",
       "Australian Cattle Dog Mix    12\n",
       "Border Collie Mix            11\n",
       "Boxer Mix                     9\n",
       "Staffordshire Mix             8\n",
       "Labrador Retriever            8\n",
       "Pit Bull                      7\n",
       "Great Pyrenees Mix            7\n",
       "Dachshund Mix                 7\n",
       "Australian Shepherd Mix       6\n",
       "Beagle Mix                    6\n",
       "Miniature Schnauzer Mix       5\n",
       "Maltese Mix                   5\n",
       "Catahoula Mix                 5\n",
       "Siberian Husky Mix            5\n",
       "Chihuahua Longhair Mix        5\n",
       "Cairn Terrier Mix             4\n",
       "Name: Breed_Intake, dtype: int64"
      ]
     },
     "execution_count": 37,
     "metadata": {},
     "output_type": "execute_result"
    }
   ],
   "source": [
    "Dog = df[df['AnimalType_Intake'] =='Dog']\n",
    "# Top 20\n",
    "Dog['Breed_Intake'].value_counts().head(20)\n",
    "#dogs"
   ]
  },
  {
   "cell_type": "code",
   "execution_count": 38,
   "metadata": {},
   "outputs": [
    {
     "data": {
      "text/plain": [
       "Domestic Shorthair Mix                 274\n",
       "Domestic Shorthair                      50\n",
       "Domestic Medium Hair Mix                34\n",
       "Siamese Mix                             21\n",
       "Domestic Longhair Mix                   13\n",
       "Domestic Medium Hair                     5\n",
       "Siamese                                  2\n",
       "Snowshoe Mix                             2\n",
       "American Shorthair Mix                   1\n",
       "Himalayan Mix                            1\n",
       "Domestic Longhair/Domestic Longhair      1\n",
       "Domestic Longhair                        1\n",
       "Bombay Mix                               1\n",
       "Balinese                                 1\n",
       "Manx Mix                                 1\n",
       "Himalayan                                1\n",
       "Chinese Sharpei                          0\n",
       "Chinese Sharpei Mix                      0\n",
       "Cockatiel Mix                            0\n",
       "Cocker Spaniel                           0\n",
       "Name: Breed_Intake, dtype: int64"
      ]
     },
     "execution_count": 38,
     "metadata": {},
     "output_type": "execute_result"
    }
   ],
   "source": [
    "Cat = df[df['AnimalType_Intake'] =='Cat']\n",
    "# Top 20\n",
    "Cat['Breed_Intake'].value_counts().head(20)"
   ]
  },
  {
   "cell_type": "markdown",
   "metadata": {},
   "source": [
    "- As we can see the majority of animals are Dog (536) and Cat (409). Therefore will keep three values , Dog, Cat and others\n",
    "\n",
    "- As we can see, majority of dogs are Pit Bull Mix (64) Chihuahua Shorthair Mix (51) and Labrador Retriever Mix (66). Therefore these will be kept and the rest of the dog breed be put into different groups as described above.\n",
    "\n",
    "- As we can see, the majority breeds of cats are Domestic with differebt hair types will make the whole as Domestic."
   ]
  },
  {
   "cell_type": "code",
   "execution_count": 39,
   "metadata": {},
   "outputs": [
    {
     "data": {
      "text/plain": [
       "dark        542\n",
       "light       230\n",
       "medium      212\n",
       "Tricolor     15\n",
       "Green         1\n",
       "Name: Color_Intake, dtype: int64"
      ]
     },
     "execution_count": 39,
     "metadata": {},
     "output_type": "execute_result"
    }
   ],
   "source": [
    "list_1 = []\n",
    "\n",
    "for i in df['Color_Intake']:\n",
    "    i = str(i)\n",
    "    if i.find('/') >= 0:\n",
    "        f, s = i.split('/')\n",
    "        list_1.append(f)\n",
    "    else:\n",
    "        list_1.append(i)\n",
    "\n",
    "df['Color_Intake'] = Series(list_1)\n",
    "\n",
    "def get_mainC(attr):\n",
    "    attr = str(attr)\n",
    "    if attr.find('Black') >= 0: return 'dark'\n",
    "    if attr.find('White') >= 0: return 'light'\n",
    "    if attr.find('Brown') >= 0: return 'dark'\n",
    "    if attr.find('Orange') >= 0: return 'light'\n",
    "    if attr.find('Blue') >= 0: return 'medium'\n",
    "    if attr.find('Red') >= 0: return 'medium'\n",
    "    \n",
    "    if attr.find('Tan') >= 0: return 'medium'\n",
    "    if attr.find('Tortie') >= 0: return 'dark'\n",
    "    if attr.find('Calico') >= 0: return 'medium'\n",
    "    if attr.find('Torbie') >= 0: return 'medium'\n",
    "    if attr.find('Buff') >= 0: return 'light'\n",
    "    if attr.find('Sable') >= 0: return 'dark'\n",
    "    if attr.find('Cream') >= 0: return 'light'\n",
    "    if attr.find('Yellow') >= 0: return 'light'\n",
    "    if attr.find('Lynx') >= 0: return 'light'\n",
    "    if attr.find('Chocolate') >= 0: return 'dark'\n",
    "    if attr.find('Gray') >= 0: return 'dark'\n",
    "    if attr.find('Liver') >= 0: return 'dark'\n",
    "    if attr.find('Flame') >= 0: return 'light'\n",
    "    if attr.find('Agouti') >= 0: return 'dark'\n",
    "    if attr.find('Pink') >= 0: return 'light'\n",
    "    if attr.find('Ruddy') >= 0: return 'medium'\n",
    "    if attr.find('Gold') >= 0: return 'light'\n",
    "    if attr.find('Silver') >= 0: return 'light'\n",
    "    if attr.find('Lilac') >= 0: return 'light'\n",
    "    if attr.find('Seal') >= 0: return 'medium'\n",
    "    if attr.find('Fawn') >= 0: return 'light'\n",
    "    if attr.find('Apricot') >= 0: return 'light'\n",
    "    else: return attr\n",
    "\n",
    "df['Color_Intake'] = df.Color_Intake.apply(get_mainC)\n",
    "df['Color_Intake'].value_counts()"
   ]
  },
  {
   "cell_type": "code",
   "execution_count": 40,
   "metadata": {},
   "outputs": [
    {
     "data": {
      "text/html": [
       "<div>\n",
       "<style scoped>\n",
       "    .dataframe tbody tr th:only-of-type {\n",
       "        vertical-align: middle;\n",
       "    }\n",
       "\n",
       "    .dataframe tbody tr th {\n",
       "        vertical-align: top;\n",
       "    }\n",
       "\n",
       "    .dataframe thead th {\n",
       "        text-align: right;\n",
       "    }\n",
       "</style>\n",
       "<table border=\"1\" class=\"dataframe\">\n",
       "  <thead>\n",
       "    <tr style=\"text-align: right;\">\n",
       "      <th></th>\n",
       "      <th>AgeuponIntake</th>\n",
       "    </tr>\n",
       "  </thead>\n",
       "  <tbody>\n",
       "    <tr>\n",
       "      <th>215</th>\n",
       "      <td>24.0</td>\n",
       "    </tr>\n",
       "    <tr>\n",
       "      <th>10</th>\n",
       "      <td>16.0</td>\n",
       "    </tr>\n",
       "    <tr>\n",
       "      <th>874</th>\n",
       "      <td>16.0</td>\n",
       "    </tr>\n",
       "    <tr>\n",
       "      <th>401</th>\n",
       "      <td>15.0</td>\n",
       "    </tr>\n",
       "    <tr>\n",
       "      <th>161</th>\n",
       "      <td>15.0</td>\n",
       "    </tr>\n",
       "    <tr>\n",
       "      <th>271</th>\n",
       "      <td>14.0</td>\n",
       "    </tr>\n",
       "    <tr>\n",
       "      <th>248</th>\n",
       "      <td>14.0</td>\n",
       "    </tr>\n",
       "    <tr>\n",
       "      <th>526</th>\n",
       "      <td>14.0</td>\n",
       "    </tr>\n",
       "    <tr>\n",
       "      <th>170</th>\n",
       "      <td>14.0</td>\n",
       "    </tr>\n",
       "    <tr>\n",
       "      <th>628</th>\n",
       "      <td>13.0</td>\n",
       "    </tr>\n",
       "    <tr>\n",
       "      <th>822</th>\n",
       "      <td>13.0</td>\n",
       "    </tr>\n",
       "    <tr>\n",
       "      <th>240</th>\n",
       "      <td>13.0</td>\n",
       "    </tr>\n",
       "    <tr>\n",
       "      <th>322</th>\n",
       "      <td>13.0</td>\n",
       "    </tr>\n",
       "    <tr>\n",
       "      <th>997</th>\n",
       "      <td>13.0</td>\n",
       "    </tr>\n",
       "    <tr>\n",
       "      <th>814</th>\n",
       "      <td>12.0</td>\n",
       "    </tr>\n",
       "    <tr>\n",
       "      <th>345</th>\n",
       "      <td>12.0</td>\n",
       "    </tr>\n",
       "    <tr>\n",
       "      <th>389</th>\n",
       "      <td>12.0</td>\n",
       "    </tr>\n",
       "    <tr>\n",
       "      <th>349</th>\n",
       "      <td>12.0</td>\n",
       "    </tr>\n",
       "    <tr>\n",
       "      <th>363</th>\n",
       "      <td>12.0</td>\n",
       "    </tr>\n",
       "    <tr>\n",
       "      <th>846</th>\n",
       "      <td>11.0</td>\n",
       "    </tr>\n",
       "    <tr>\n",
       "      <th>105</th>\n",
       "      <td>11.0</td>\n",
       "    </tr>\n",
       "    <tr>\n",
       "      <th>359</th>\n",
       "      <td>11.0</td>\n",
       "    </tr>\n",
       "    <tr>\n",
       "      <th>177</th>\n",
       "      <td>11.0</td>\n",
       "    </tr>\n",
       "    <tr>\n",
       "      <th>665</th>\n",
       "      <td>11.0</td>\n",
       "    </tr>\n",
       "    <tr>\n",
       "      <th>697</th>\n",
       "      <td>11.0</td>\n",
       "    </tr>\n",
       "  </tbody>\n",
       "</table>\n",
       "</div>"
      ],
      "text/plain": [
       "     AgeuponIntake\n",
       "215           24.0\n",
       "10            16.0\n",
       "874           16.0\n",
       "401           15.0\n",
       "161           15.0\n",
       "271           14.0\n",
       "248           14.0\n",
       "526           14.0\n",
       "170           14.0\n",
       "628           13.0\n",
       "822           13.0\n",
       "240           13.0\n",
       "322           13.0\n",
       "997           13.0\n",
       "814           12.0\n",
       "345           12.0\n",
       "389           12.0\n",
       "349           12.0\n",
       "363           12.0\n",
       "846           11.0\n",
       "105           11.0\n",
       "359           11.0\n",
       "177           11.0\n",
       "665           11.0\n",
       "697           11.0"
      ]
     },
     "execution_count": 40,
     "metadata": {},
     "output_type": "execute_result"
    }
   ],
   "source": [
    "#The outliers in the box plots (age) initially appear need to be investigate further.\n",
    "\n",
    "df.sort_values(by='AgeuponIntake', axis=0, ascending=False, inplace=False, kind='quicksort', na_position='first')[['AgeuponIntake'\n",
    "]].head(25)"
   ]
  },
  {
   "cell_type": "markdown",
   "metadata": {},
   "source": [
    "### Data quality plan:\n",
    "   \n",
    "| Feature                 | Data Quality Issue   | Handling Strategy            |\n",
    "|-------------------------|----------------------|------------------------------|\n",
    "| Name_intake             | Missing Values | Column Dropped                   |\n",
    "| Found Location          | High Cardinality    | Column Dropped       | \n",
    "| Sex upon intake         | Missing Values 'unknown' | changed to others                |\n",
    "| Breed Intake              | High Cardinality | Has to do operation                |\n",
    "| Color Intake              | High Cardinality | Operted and changed               |\n",
    "| DateTimeIntake          | Invalid Data type | Changed Data Type              |\n",
    "| DateTimeOutcome                | Invalid Data type| Changed Data Type            |\n",
    "| Age Upon Intake              | Cardinality          | Changed to years         |\n",
    "| Age Upon Outcome             | Outliers             | Changed to years\n"
   ]
  },
  {
   "cell_type": "markdown",
   "metadata": {},
   "source": [
    "### Save the new CSV with self explanatory name. And make the PDF of the Data Quality Plan."
   ]
  },
  {
   "cell_type": "code",
   "execution_count": 41,
   "metadata": {},
   "outputs": [],
   "source": [
    "# Write the df to a csv file\n",
    "df.to_csv('AnimalWelfareRisk-19200438-updated-2.csv', index=False)"
   ]
  },
  {
   "cell_type": "markdown",
   "metadata": {},
   "source": [
    "## Task 3 - Exploring relationships between feature pairs:\n",
    "\n",
    "- Choose a subset of features you find promising and plot pairwise feature interactions (e.g., continuous-continuous feature plot or continuous-categorical plots or correlation plots). \n",
    "- Explain your choices.\n",
    "- Discuss your findings from the plots above. Do you find any features or feature combinations that are indicative of the target outcome? Explain in plain words (a short paragraph) the story of your findings so far."
   ]
  },
  {
   "cell_type": "markdown",
   "metadata": {},
   "source": [
    "The features that I will look at for pairwise feature interaction are the \n",
    "and the following categorical features:\n",
    "- IntakeType\n",
    "- IntakeCondition\n",
    "- AnimalType_Intake\n",
    "- SexuponIntake\n",
    "- SexuponOutcome\n",
    "- Breed_Intake\n",
    "- Color_Intake\n",
    "- Result\n",
    "- Year\n",
    "- Month\n",
    "\n",
    "following continuous features:\n",
    "- AgeUponIntake\n",
    "- AgeUponOutcome\n",
    "\n",
    "#### Note: In result good is 0 and bad is 1\n",
    "\n",
    "### 3.1 Correlations for the numeric features"
   ]
  },
  {
   "cell_type": "code",
   "execution_count": 42,
   "metadata": {},
   "outputs": [],
   "source": [
    "def plot_corr(df, size=11):\n",
    "    \"\"\"\n",
    "    Function plots a graphical correlation matrix for each pair of columns in the dataframe.\n",
    "\n",
    "    Input:\n",
    "        df: pandas DataFrame\n",
    "        size: vertical and horizontal size of the plot\n",
    "\n",
    "    Displays:\n",
    "        matrix of correlation between columns.  Blue-cyan-yellow-red-darkred => less to more correlated\n",
    "                                                0 ------------------>  1\n",
    "                                                Expect a darkred line running from top left to bottom right\n",
    "    \"\"\"\n",
    "\n",
    "    corr = df.corr()    # data frame correlation function\n",
    "    fig, ax = plt.subplots(figsize=(size, size))\n",
    "    ax.matshow(corr)   # color code the rectangles by correlation value\n",
    "    plt.xticks(range(len(corr.columns)), corr.columns)  # draw x tick marks\n",
    "    plt.yticks(range(len(corr.columns)), corr.columns)  # draw y tick marks\n"
   ]
  },
  {
   "cell_type": "code",
   "execution_count": 43,
   "metadata": {},
   "outputs": [
    {
     "data": {
      "image/png": "[encoded data removed]",
      "text/plain": [
       "<Figure size 792x792 with 1 Axes>"
      ]
     },
     "metadata": {
      "needs_background": "light"
     },
     "output_type": "display_data"
    }
   ],
   "source": [
    "plot_corr(df)"
   ]
  },
  {
   "cell_type": "code",
   "execution_count": 44,
   "metadata": {},
   "outputs": [
    {
     "data": {
      "text/plain": [
       "<matplotlib.axes._subplots.AxesSubplot at 0x1ee381fd2b0>"
      ]
     },
     "execution_count": 44,
     "metadata": {},
     "output_type": "execute_result"
    },
    {
     "data": {
      "image/png": "[encoded data removed]",
      "text/plain": [
       "<Figure size 432x288 with 1 Axes>"
      ]
     },
     "metadata": {
      "needs_background": "light"
     },
     "output_type": "display_data"
    }
   ],
   "source": [
    "df.plot(kind='scatter', x='AgeuponIntake', y='AgeuponOutcome')\n"
   ]
  },
  {
   "cell_type": "markdown",
   "metadata": {},
   "source": [
    "###### Observation :\n",
    "1. Correlation plot shows the high correlation between ageuponintake and ageuponoutcome.\n",
    "\n",
    "2. Scatter Plots shows that categorical features with high correlation are somewhat linear.The age outcome has a straight line cut off. This basically means that animals coming out is older than when they are taking in. This is likely AT making a protected suspicion about animal age days in the shelter house, possibly checking the days from when the animal first register."
   ]
  },
  {
   "cell_type": "code",
   "execution_count": 45,
   "metadata": {},
   "outputs": [
    {
     "data": {
      "text/plain": [
       "array(['Dog', 'Cat', 'Bird', 'Other', 'Livestock'], dtype=object)"
      ]
     },
     "execution_count": 45,
     "metadata": {},
     "output_type": "execute_result"
    }
   ],
   "source": [
    "animalType_Intake = pd.unique(df[\"AnimalType_Intake\"].ravel())\n",
    "animalType_Intake"
   ]
  },
  {
   "cell_type": "code",
   "execution_count": 46,
   "metadata": {},
   "outputs": [
    {
     "name": "stdout",
     "output_type": "stream",
     "text": [
      "Dog \t 536\n",
      "Cat \t 409\n",
      "Bird \t 5\n",
      "Other \t 49\n",
      "Livestock \t 1\n"
     ]
    },
    {
     "data": {
      "text/plain": [
       "(0, 100)"
      ]
     },
     "execution_count": 46,
     "metadata": {},
     "output_type": "execute_result"
    },
    {
     "data": {
      "image/png": "[encoded data removed]",
      "text/plain": [
       "<Figure size 1080x504 with 1 Axes>"
      ]
     },
     "metadata": {
      "needs_background": "light"
     },
     "output_type": "display_data"
    }
   ],
   "source": [
    "df['percent'] = 0\n",
    "\n",
    "for i in animalType_Intake:\n",
    "    \n",
    "    count = df[df[\"AnimalType_Intake\"] == i].count()['Result']\n",
    "    count_percentage = (1 / count) * 100\n",
    "\n",
    " # print out index vs count\n",
    "    print(i, \"\\t\", count)\n",
    "    \n",
    "    index_list = df[df['AnimalType_Intake'] == i].index.tolist()\n",
    "    for ind in index_list:\n",
    "        df.loc[ind, 'percent'] = count_percentage\n",
    "\n",
    "        \n",
    "        \n",
    "group = df[['percent','AnimalType_Intake','Result']].groupby(['AnimalType_Intake','Result']).sum()\n",
    "\n",
    "my_plot = group.unstack().plot(kind='bar', stacked=True, title=\"Result vs AnimalType_Intake\", figsize=(15,7), grid=True)\n",
    "\n",
    "# add legend\n",
    "red_patch = mpatches.Patch(color='orange', label='Negative Case')\n",
    "blue_patch = mpatches.Patch(color='blue', label='Positive Case')\n",
    "my_plot.legend(handles=[red_patch, blue_patch], frameon = True)\n",
    "\n",
    "# add gridlines\n",
    "plt.grid(b=True, which='major', color='#666666', linestyle='-')\n",
    "plt.minorticks_on()\n",
    "plt.grid(b=True, which='minor', color='#999999', linestyle='-', alpha=0.2)\n",
    "\n",
    "my_plot.set_xlabel(\"Animal_Intake\")\n",
    "my_plot.set_ylabel(\"Result in percentage\")\n",
    "my_plot.set_ylim([0,100])"
   ]
  },
  {
   "cell_type": "markdown",
   "metadata": {},
   "source": [
    "#### Observation :\n",
    "* Dogs have better postive result compare to the other types."
   ]
  },
  {
   "cell_type": "code",
   "execution_count": 47,
   "metadata": {},
   "outputs": [
    {
     "name": "stdout",
     "output_type": "stream",
     "text": [
      "Stray \t 699\n",
      "Owner Surrender \t 196\n",
      "Wildlife \t 36\n",
      "Public Assist \t 65\n",
      "Euthanasia Request \t 3\n",
      "Abandoned \t 1\n"
     ]
    },
    {
     "data": {
      "text/plain": [
       "(0, 100)"
      ]
     },
     "execution_count": 47,
     "metadata": {},
     "output_type": "execute_result"
    },
    {
     "data": {
      "image/png": "[encoded data removed]",
      "text/plain": [
       "<Figure size 1080x504 with 1 Axes>"
      ]
     },
     "metadata": {
      "needs_background": "light"
     },
     "output_type": "display_data"
    }
   ],
   "source": [
    "intaketype = pd.unique(df[\"IntakeType\"].ravel())\n",
    "\n",
    "\n",
    "df['percent'] = 0\n",
    "\n",
    "for i in intaketype:\n",
    "    \n",
    "    count = df[df[\"IntakeType\"] == i].count()['Result']\n",
    "    count_percentage = (1 / count) * 100\n",
    "\n",
    " # print out index vs count\n",
    "    print(i, \"\\t\", count)\n",
    "    \n",
    "    index_list = df[df['IntakeType'] == i].index.tolist()\n",
    "    for ind in index_list:\n",
    "        df.loc[ind, 'percent'] = count_percentage\n",
    "\n",
    "        \n",
    "        \n",
    "group = df[['percent','IntakeType','Result']].groupby(['IntakeType','Result']).sum()\n",
    "\n",
    "my_plot = group.unstack().plot(kind='bar', stacked=True, title=\"Result vs IntakeType\", figsize=(15,7), grid=True)\n",
    "\n",
    "# add legend\n",
    "red_patch = mpatches.Patch(color='orange', label='Negative Case')\n",
    "blue_patch = mpatches.Patch(color='blue', label='Positive Case')\n",
    "my_plot.legend(handles=[red_patch, blue_patch], frameon = True)\n",
    "\n",
    "# add gridlines\n",
    "plt.grid(b=True, which='major', color='#666666', linestyle='-')\n",
    "plt.minorticks_on()\n",
    "plt.grid(b=True, which='minor', color='#999999', linestyle='-', alpha=0.2)\n",
    "\n",
    "my_plot.set_xlabel(\"IntakeType\")\n",
    "my_plot.set_ylabel(\"Result in percentage\")\n",
    "my_plot.set_ylim([0,100])"
   ]
  },
  {
   "cell_type": "markdown",
   "metadata": {},
   "source": [
    "#### Observation :\n",
    "\n",
    "Euthanasia Request animals have a very high bad result around 100% followed by Wild life  of 97% bad outcome. This may be because people may not want to adopt them.\n",
    "Stray has a negative outcome of around 5 %. which is not bad comapred to other two.\n",
    "Owner surrender and Public Assist seems to have a very high good outcome."
   ]
  },
  {
   "cell_type": "code",
   "execution_count": 48,
   "metadata": {},
   "outputs": [
    {
     "name": "stdout",
     "output_type": "stream",
     "text": [
      "Neutered Male \t 152\n",
      "Unknown \t 87\n",
      "Spayed Female \t 126\n",
      "Intact Male \t 328\n",
      "Intact Female \t 307\n"
     ]
    },
    {
     "data": {
      "text/plain": [
       "(0, 100)"
      ]
     },
     "execution_count": 48,
     "metadata": {},
     "output_type": "execute_result"
    },
    {
     "data": {
      "image/png": "[encoded data removed]",
      "text/plain": [
       "<Figure size 1080x504 with 1 Axes>"
      ]
     },
     "metadata": {
      "needs_background": "light"
     },
     "output_type": "display_data"
    }
   ],
   "source": [
    "gender = pd.unique(df[\"SexuponIntake\"].ravel())\n",
    "\n",
    "\n",
    "df['percent'] = 0\n",
    "\n",
    "for i in gender:\n",
    "    \n",
    "    count = df[df[\"SexuponIntake\"] == i].count()['Result']\n",
    "    count_percentage = (1 / count) * 100\n",
    "\n",
    " # print out index vs count\n",
    "    print(i, \"\\t\", count)\n",
    "    \n",
    "    index_list = df[df['SexuponIntake'] == i].index.tolist()\n",
    "    for ind in index_list:\n",
    "        df.loc[ind, 'percent'] = count_percentage\n",
    "\n",
    "        \n",
    "        \n",
    "group = df[['percent','SexuponIntake','Result']].groupby(['SexuponIntake','Result']).sum()\n",
    "\n",
    "my_plot = group.unstack().plot(kind='bar', stacked=True, title=\"Result vs SexuponIntake\", figsize=(15,7), grid=True)\n",
    "\n",
    "# add legend\n",
    "red_patch = mpatches.Patch(color='orange', label='Negative Case')\n",
    "blue_patch = mpatches.Patch(color='blue', label='Positive Case')\n",
    "my_plot.legend(handles=[red_patch, blue_patch], frameon = True)\n",
    "\n",
    "# add gridlines\n",
    "plt.grid(b=True, which='major', color='#666666', linestyle='-')\n",
    "plt.minorticks_on()\n",
    "plt.grid(b=True, which='minor', color='#999999', linestyle='-', alpha=0.2)\n",
    "\n",
    "my_plot.set_xlabel(\"SexuponIntake\")\n",
    "my_plot.set_ylabel(\"Result in percentage\")\n",
    "my_plot.set_ylim([0,100])"
   ]
  },
  {
   "cell_type": "markdown",
   "metadata": {},
   "source": [
    "From the above plot we can understand that alot of animals come in as intact and leave that Neutered male or Spayed female."
   ]
  },
  {
   "cell_type": "code",
   "execution_count": 49,
   "metadata": {},
   "outputs": [
    {
     "name": "stdout",
     "output_type": "stream",
     "text": [
      "Normal \t 865\n",
      "Nursing \t 34\n",
      "Injured \t 51\n",
      "Sick \t 41\n",
      "Aged \t 3\n",
      "Other \t 3\n",
      "Feral \t 2\n",
      "Pregnant \t 1\n"
     ]
    },
    {
     "data": {
      "text/plain": [
       "(0, 100)"
      ]
     },
     "execution_count": 49,
     "metadata": {},
     "output_type": "execute_result"
    },
    {
     "data": {
      "image/png": "[encoded data removed]",
      "text/plain": [
       "<Figure size 1080x504 with 1 Axes>"
      ]
     },
     "metadata": {
      "needs_background": "light"
     },
     "output_type": "display_data"
    }
   ],
   "source": [
    "intakeCondition = pd.unique(df[\"IntakeCondition\"].ravel())\n",
    "\n",
    "\n",
    "df['percent'] = 0\n",
    "\n",
    "for i in intakeCondition:\n",
    "    \n",
    "    count = df[df[\"IntakeCondition\"] == i].count()['Result']\n",
    "    count_percentage = (1 / count) * 100\n",
    "\n",
    " # print out index vs count\n",
    "    print(i, \"\\t\", count)\n",
    "    \n",
    "    index_list = df[df['IntakeCondition'] == i].index.tolist()\n",
    "    for ind in index_list:\n",
    "        df.loc[ind, 'percent'] = count_percentage\n",
    "\n",
    "        \n",
    "        \n",
    "group = df[['percent','IntakeCondition','Result']].groupby(['IntakeCondition','Result']).sum()\n",
    "\n",
    "my_plot = group.unstack().plot(kind='bar', stacked=True, title=\"Result vs IntakeCondition\", figsize=(15,7), grid=True)\n",
    "\n",
    "# add legend\n",
    "red_patch = mpatches.Patch(color='orange', label='Negative Case')\n",
    "blue_patch = mpatches.Patch(color='blue', label='Positive Case')\n",
    "my_plot.legend(handles=[red_patch, blue_patch], frameon = True)\n",
    "\n",
    "# add gridlines\n",
    "plt.grid(b=True, which='major', color='#666666', linestyle='-')\n",
    "plt.minorticks_on()\n",
    "plt.grid(b=True, which='minor', color='#999999', linestyle='-', alpha=0.2)\n",
    "\n",
    "my_plot.set_xlabel(\"IntakeCondition\")\n",
    "my_plot.set_ylabel(\"Result in percentage\")\n",
    "my_plot.set_ylim([0,100])"
   ]
  },
  {
   "cell_type": "markdown",
   "metadata": {},
   "source": [
    "From above we can see that the highest negative result for intake condition is 'sick' which is more than 45%, this is not a suprise as injured animals have less chance of survival as well.And followed by the aged which is around 35%."
   ]
  },
  {
   "cell_type": "code",
   "execution_count": 50,
   "metadata": {},
   "outputs": [
    {
     "data": {
      "text/html": [
       "<div>\n",
       "<style scoped>\n",
       "    .dataframe tbody tr th:only-of-type {\n",
       "        vertical-align: middle;\n",
       "    }\n",
       "\n",
       "    .dataframe tbody tr th {\n",
       "        vertical-align: top;\n",
       "    }\n",
       "\n",
       "    .dataframe thead th {\n",
       "        text-align: right;\n",
       "    }\n",
       "</style>\n",
       "<table border=\"1\" class=\"dataframe\">\n",
       "  <thead>\n",
       "    <tr style=\"text-align: right;\">\n",
       "      <th></th>\n",
       "      <th>AnimalID</th>\n",
       "      <th>DateTime_Intake</th>\n",
       "      <th>IntakeType</th>\n",
       "      <th>IntakeCondition</th>\n",
       "      <th>AnimalType_Intake</th>\n",
       "      <th>SexuponIntake</th>\n",
       "      <th>AgeuponIntake</th>\n",
       "      <th>Breed_Intake</th>\n",
       "      <th>Color_Intake</th>\n",
       "      <th>DateTime_Outcome</th>\n",
       "      <th>DateofBirth</th>\n",
       "      <th>SexuponOutcome</th>\n",
       "      <th>AgeuponOutcome</th>\n",
       "      <th>Result</th>\n",
       "      <th>year</th>\n",
       "      <th>month</th>\n",
       "      <th>percent</th>\n",
       "    </tr>\n",
       "  </thead>\n",
       "  <tbody>\n",
       "    <tr>\n",
       "      <th>0</th>\n",
       "      <td>A797495</td>\n",
       "      <td>2019-06-14 11:34:00</td>\n",
       "      <td>Stray</td>\n",
       "      <td>Normal</td>\n",
       "      <td>Dog</td>\n",
       "      <td>Neutered Male</td>\n",
       "      <td>0.250000</td>\n",
       "      <td>Cairn Terrier</td>\n",
       "      <td>dark</td>\n",
       "      <td>2019-06-15 12:44:00</td>\n",
       "      <td>2019-02-14</td>\n",
       "      <td>Neutered Male</td>\n",
       "      <td>0.250000</td>\n",
       "      <td>0.0</td>\n",
       "      <td>2019</td>\n",
       "      <td>6</td>\n",
       "      <td>0.115607</td>\n",
       "    </tr>\n",
       "    <tr>\n",
       "      <th>1</th>\n",
       "      <td>A801314</td>\n",
       "      <td>2019-08-02 14:43:00</td>\n",
       "      <td>Stray</td>\n",
       "      <td>Nursing</td>\n",
       "      <td>Cat</td>\n",
       "      <td>Unknown</td>\n",
       "      <td>0.038462</td>\n",
       "      <td>Domestic Shorthair</td>\n",
       "      <td>light</td>\n",
       "      <td>2019-08-02 18:22:00</td>\n",
       "      <td>2019-07-18</td>\n",
       "      <td>Unknown</td>\n",
       "      <td>0.038462</td>\n",
       "      <td>0.0</td>\n",
       "      <td>2019</td>\n",
       "      <td>8</td>\n",
       "      <td>2.941176</td>\n",
       "    </tr>\n",
       "    <tr>\n",
       "      <th>2</th>\n",
       "      <td>A699842</td>\n",
       "      <td>2015-05-19 12:33:00</td>\n",
       "      <td>Owner Surrender</td>\n",
       "      <td>Normal</td>\n",
       "      <td>Dog</td>\n",
       "      <td>Spayed Female</td>\n",
       "      <td>0.250000</td>\n",
       "      <td>Chihuahua Shorthair Mix</td>\n",
       "      <td>light</td>\n",
       "      <td>2015-05-23 14:03:00</td>\n",
       "      <td>2015-01-23</td>\n",
       "      <td>Spayed Female</td>\n",
       "      <td>0.250000</td>\n",
       "      <td>0.0</td>\n",
       "      <td>2015</td>\n",
       "      <td>5</td>\n",
       "      <td>0.115607</td>\n",
       "    </tr>\n",
       "    <tr>\n",
       "      <th>3</th>\n",
       "      <td>A801561</td>\n",
       "      <td>2019-08-05 18:31:00</td>\n",
       "      <td>Stray</td>\n",
       "      <td>Normal</td>\n",
       "      <td>Cat</td>\n",
       "      <td>Intact Male</td>\n",
       "      <td>0.250000</td>\n",
       "      <td>Domestic Shorthair</td>\n",
       "      <td>dark</td>\n",
       "      <td>2019-09-02 17:22:00</td>\n",
       "      <td>2019-04-09</td>\n",
       "      <td>Neutered Male</td>\n",
       "      <td>0.333333</td>\n",
       "      <td>0.0</td>\n",
       "      <td>2019</td>\n",
       "      <td>8</td>\n",
       "      <td>0.115607</td>\n",
       "    </tr>\n",
       "    <tr>\n",
       "      <th>4</th>\n",
       "      <td>A792521</td>\n",
       "      <td>2019-04-11 16:57:00</td>\n",
       "      <td>Owner Surrender</td>\n",
       "      <td>Normal</td>\n",
       "      <td>Dog</td>\n",
       "      <td>Intact Female</td>\n",
       "      <td>0.166667</td>\n",
       "      <td>Chihuahua Shorthair/Dachshund</td>\n",
       "      <td>medium</td>\n",
       "      <td>2019-04-13 11:20:00</td>\n",
       "      <td>2019-01-20</td>\n",
       "      <td>Spayed Female</td>\n",
       "      <td>0.166667</td>\n",
       "      <td>0.0</td>\n",
       "      <td>2019</td>\n",
       "      <td>4</td>\n",
       "      <td>0.115607</td>\n",
       "    </tr>\n",
       "  </tbody>\n",
       "</table>\n",
       "</div>"
      ],
      "text/plain": [
       "  AnimalID     DateTime_Intake       IntakeType IntakeCondition  \\\n",
       "0  A797495 2019-06-14 11:34:00            Stray          Normal   \n",
       "1  A801314 2019-08-02 14:43:00            Stray         Nursing   \n",
       "2  A699842 2015-05-19 12:33:00  Owner Surrender          Normal   \n",
       "3  A801561 2019-08-05 18:31:00            Stray          Normal   \n",
       "4  A792521 2019-04-11 16:57:00  Owner Surrender          Normal   \n",
       "\n",
       "  AnimalType_Intake  SexuponIntake  AgeuponIntake  \\\n",
       "0               Dog  Neutered Male       0.250000   \n",
       "1               Cat        Unknown       0.038462   \n",
       "2               Dog  Spayed Female       0.250000   \n",
       "3               Cat    Intact Male       0.250000   \n",
       "4               Dog  Intact Female       0.166667   \n",
       "\n",
       "                    Breed_Intake Color_Intake    DateTime_Outcome DateofBirth  \\\n",
       "0                  Cairn Terrier         dark 2019-06-15 12:44:00  2019-02-14   \n",
       "1             Domestic Shorthair        light 2019-08-02 18:22:00  2019-07-18   \n",
       "2        Chihuahua Shorthair Mix        light 2015-05-23 14:03:00  2015-01-23   \n",
       "3             Domestic Shorthair         dark 2019-09-02 17:22:00  2019-04-09   \n",
       "4  Chihuahua Shorthair/Dachshund       medium 2019-04-13 11:20:00  2019-01-20   \n",
       "\n",
       "  SexuponOutcome  AgeuponOutcome Result  year  month   percent  \n",
       "0  Neutered Male        0.250000    0.0  2019      6  0.115607  \n",
       "1        Unknown        0.038462    0.0  2019      8  2.941176  \n",
       "2  Spayed Female        0.250000    0.0  2015      5  0.115607  \n",
       "3  Neutered Male        0.333333    0.0  2019      8  0.115607  \n",
       "4  Spayed Female        0.166667    0.0  2019      4  0.115607  "
      ]
     },
     "execution_count": 50,
     "metadata": {},
     "output_type": "execute_result"
    }
   ],
   "source": [
    "df.head()"
   ]
  },
  {
   "cell_type": "code",
   "execution_count": 51,
   "metadata": {},
   "outputs": [
    {
     "name": "stdout",
     "output_type": "stream",
     "text": [
      "dark \t 542\n",
      "light \t 230\n",
      "medium \t 212\n",
      "Green \t 1\n",
      "Tricolor \t 15\n"
     ]
    },
    {
     "data": {
      "text/plain": [
       "(0, 100)"
      ]
     },
     "execution_count": 51,
     "metadata": {},
     "output_type": "execute_result"
    },
    {
     "data": {
      "image/png": "[encoded data removed]",
      "text/plain": [
       "<Figure size 1080x504 with 1 Axes>"
      ]
     },
     "metadata": {
      "needs_background": "light"
     },
     "output_type": "display_data"
    }
   ],
   "source": [
    "color = pd.unique(df[\"Color_Intake\"].ravel())\n",
    "\n",
    "\n",
    "df['percent'] = 0\n",
    "\n",
    "for i in color:\n",
    "    \n",
    "    count = df[df[\"Color_Intake\"] == i].count()['Result']\n",
    "    count_percentage = (1 / count) * 100\n",
    "\n",
    " # print out index vs count\n",
    "    print(i, \"\\t\", count)\n",
    "    \n",
    "    index_list = df[df['Color_Intake'] == i].index.tolist()\n",
    "    for ind in index_list:\n",
    "        df.loc[ind, 'percent'] = count_percentage\n",
    "\n",
    "        \n",
    "        \n",
    "group = df[['percent','Color_Intake','Result']].groupby(['Color_Intake','Result']).sum()\n",
    "\n",
    "my_plot = group.unstack().plot(kind='bar', stacked=True, title=\"Result vs Color_Intake\", figsize=(15,7), grid=True)\n",
    "\n",
    "# add legend\n",
    "red_patch = mpatches.Patch(color='orange', label='Negative Case')\n",
    "blue_patch = mpatches.Patch(color='blue', label='Positive Case')\n",
    "my_plot.legend(handles=[red_patch, blue_patch], frameon = True)\n",
    "\n",
    "# add gridlines\n",
    "plt.grid(b=True, which='major', color='#666666', linestyle='-')\n",
    "plt.minorticks_on()\n",
    "plt.grid(b=True, which='minor', color='#999999', linestyle='-', alpha=0.2)\n",
    "\n",
    "my_plot.set_xlabel(\"Color_Intake\")\n",
    "my_plot.set_ylabel(\"Result in percentage\")\n",
    "my_plot.set_ylim([0,100])"
   ]
  },
  {
   "cell_type": "markdown",
   "metadata": {},
   "source": [
    "As we can see the dark and medium color animals are prone to negative result. "
   ]
  },
  {
   "cell_type": "code",
   "execution_count": 52,
   "metadata": {},
   "outputs": [
    {
     "data": {
      "image/png": "[encoded data removed]",
      "text/plain": [
       "<Figure size 504x504 with 1 Axes>"
      ]
     },
     "metadata": {
      "needs_background": "light"
     },
     "output_type": "display_data"
    }
   ],
   "source": [
    "df[df['Result'] == 0][['AgeuponIntake']].plot(kind='hist',figsize=(7,7), bins=10, title=\"Positive cases\")\n",
    "plt.grid(b=True, which='major', color='#666666', linestyle='-')\n",
    "plt.minorticks_on()\n",
    "plt.grid(b=True, which='minor', color='#999999', linestyle='-', alpha=0.2)"
   ]
  },
  {
   "cell_type": "code",
   "execution_count": 53,
   "metadata": {
    "scrolled": false
   },
   "outputs": [
    {
     "data": {
      "image/png": "[encoded data removed]",
      "text/plain": [
       "<Figure size 504x504 with 1 Axes>"
      ]
     },
     "metadata": {
      "needs_background": "light"
     },
     "output_type": "display_data"
    }
   ],
   "source": [
    "df[df['Result'] == 1][['AgeuponIntake']].plot(kind='hist',figsize=(7,7), bins=10, title=\"Negative cases\")\n",
    "plt.grid(b=True, which='major', color='#666666', linestyle='-')\n",
    "plt.minorticks_on()\n",
    "plt.grid(b=True, which='minor', color='#999999', linestyle='-', alpha=0.2)"
   ]
  },
  {
   "cell_type": "code",
   "execution_count": 54,
   "metadata": {},
   "outputs": [
    {
     "data": {
      "image/png": "[encoded data removed]",
      "text/plain": [
       "<Figure size 504x504 with 1 Axes>"
      ]
     },
     "metadata": {
      "needs_background": "light"
     },
     "output_type": "display_data"
    }
   ],
   "source": [
    "df[df['Result'] == 1][['AgeuponOutcome']].plot(kind='hist',figsize=(7,7), bins=10, title=\"Negative cases\")\n",
    "plt.grid(b=True, which='major', color='#666666', linestyle='-')\n",
    "plt.minorticks_on()\n",
    "plt.grid(b=True, which='minor', color='#999999', linestyle='-', alpha=0.2)"
   ]
  },
  {
   "cell_type": "code",
   "execution_count": 55,
   "metadata": {
    "scrolled": false
   },
   "outputs": [
    {
     "data": {
      "image/png": "[encoded data removed]",
      "text/plain": [
       "<Figure size 504x504 with 1 Axes>"
      ]
     },
     "metadata": {
      "needs_background": "light"
     },
     "output_type": "display_data"
    }
   ],
   "source": [
    "df[df['Result'] == 0][['AgeuponOutcome']].plot(kind='hist',figsize=(7,7), bins=10, title=\"Positive cases\")\n",
    "plt.grid(b=True, which='major', color='#666666', linestyle='-')\n",
    "plt.minorticks_on()\n",
    "plt.grid(b=True, which='minor', color='#999999', linestyle='-', alpha=0.2)"
   ]
  },
  {
   "cell_type": "code",
   "execution_count": 56,
   "metadata": {},
   "outputs": [
    {
     "data": {
      "text/plain": [
       "<matplotlib.axes._subplots.AxesSubplot at 0x1ee37e6f978>"
      ]
     },
     "execution_count": 56,
     "metadata": {},
     "output_type": "execute_result"
    },
    {
     "data": {
      "text/plain": [
       "<Figure size 432x288 with 0 Axes>"
      ]
     },
     "metadata": {},
     "output_type": "display_data"
    },
    {
     "data": {
      "image/png": "[encoded data removed]",
      "text/plain": [
       "<Figure size 720x504 with 1 Axes>"
      ]
     },
     "metadata": {
      "needs_background": "light"
     },
     "output_type": "display_data"
    }
   ],
   "source": [
    "plt.figure()\n",
    "flierprops = dict(marker='o', markerfacecolor='green', markersize=6,\n",
    "                  linestyle='none')\n",
    "df.boxplot(column=['AgeuponOutcome'], by=['Result'], flierprops=flierprops, figsize=(10,7))"
   ]
  },
  {
   "cell_type": "code",
   "execution_count": 57,
   "metadata": {},
   "outputs": [
    {
     "data": {
      "text/plain": [
       "<matplotlib.axes._subplots.AxesSubplot at 0x1ee37cb3470>"
      ]
     },
     "execution_count": 57,
     "metadata": {},
     "output_type": "execute_result"
    },
    {
     "data": {
      "image/png": "[encoded data removed]",
      "text/plain": [
       "<Figure size 1080x576 with 1 Axes>"
      ]
     },
     "metadata": {
      "needs_background": "light"
     },
     "output_type": "display_data"
    }
   ],
   "source": [
    "import matplotlib\n",
    "import matplotlib.pyplot as plt\n",
    "matplotlib.rcParams['figure.figsize'] = (15, 8)\n",
    "\n",
    "df[['Result','AgeuponOutcome','AnimalType_Intake']].boxplot(by=['AnimalType_Intake','Result'])"
   ]
  },
  {
   "cell_type": "code",
   "execution_count": 58,
   "metadata": {},
   "outputs": [
    {
     "name": "stdout",
     "output_type": "stream",
     "text": [
      "Number of Success cases:  921 (92.10%)\n",
      "Number of Failurelse cases: 79 (7.90%)\n"
     ]
    }
   ],
   "source": [
    "num_obs = len(df)\n",
    "num_sucess = len(df.loc[df['Result'] == 0])\n",
    "num_failure = len(df.loc[df['Result'] == 1])\n",
    "print(\"Number of Success cases:  {0} ({1:2.2f}%)\".format(num_sucess, (num_sucess/num_obs) * 100))\n",
    "print(\"Number of Failurelse cases: {0} ({1:2.2f}%)\".format(num_failure, (num_failure/num_obs) * 100))"
   ]
  },
  {
   "cell_type": "markdown",
   "metadata": {},
   "source": [
    "## Task 4 - Transform, extend or combine the existing features to create a few new features (at least 3) with the aim to better capture the problem domain and the target outcome. \n",
    "\n",
    "### Justify the steps and choices you are making. Add these features to your clean dataset and save it as a CSV file with a self explanatory name.\n",
    "\n",
    "\n",
    "\n"
   ]
  },
  {
   "cell_type": "markdown",
   "metadata": {},
   "source": [
    "\n",
    "#### 1. Time_stayed : A new feature I am introducing is the time the animal stayed in shelter. From the date time intake and  data time outcome.\n",
    "\n",
    "#### 2. Month : A new feature which can help us in predecting the relation between the result and intake season.\n",
    "\n",
    "#### 3. Year : A new feature which can help us in predecting any specif outbreak in a particular year."
   ]
  },
  {
   "cell_type": "code",
   "execution_count": 59,
   "metadata": {},
   "outputs": [],
   "source": [
    "# df['outcome_datetime'] = pd.to_datetime(in_out['outcome_datetime'])\n",
    "# df['intake_datetime'] = pd.to_datetime(in_out['intake_datetime'])\n",
    "\n",
    "df['Time_stayed'] = df['DateTime_Outcome'] - df['DateTime_Intake']"
   ]
  },
  {
   "cell_type": "code",
   "execution_count": 60,
   "metadata": {},
   "outputs": [
    {
     "data": {
      "text/plain": [
       "count                       1000\n",
       "mean     15 days 22:10:37.620000\n",
       "std      54 days 09:49:04.603203\n",
       "min          -767 days +08:35:00\n",
       "25%              1 days 01:59:30\n",
       "50%              5 days 00:21:30\n",
       "75%             15 days 00:08:00\n",
       "max            870 days 20:49:00\n",
       "Name: Time_stayed, dtype: object"
      ]
     },
     "execution_count": 60,
     "metadata": {},
     "output_type": "execute_result"
    }
   ],
   "source": [
    "df['Time_stayed'].describe()"
   ]
  },
  {
   "cell_type": "markdown",
   "metadata": {},
   "source": [
    "Interestingly, the minimum time an animal was in the shelter is -767 days,which is impossible senario. To investigate a little further, we can filter the dataset for intake datetimes that are more recent than their outcomes."
   ]
  },
  {
   "cell_type": "code",
   "execution_count": 61,
   "metadata": {},
   "outputs": [
    {
     "name": "stdout",
     "output_type": "stream",
     "text": [
      "10\n"
     ]
    },
    {
     "data": {
      "text/html": [
       "<div>\n",
       "<style scoped>\n",
       "    .dataframe tbody tr th:only-of-type {\n",
       "        vertical-align: middle;\n",
       "    }\n",
       "\n",
       "    .dataframe tbody tr th {\n",
       "        vertical-align: top;\n",
       "    }\n",
       "\n",
       "    .dataframe thead th {\n",
       "        text-align: right;\n",
       "    }\n",
       "</style>\n",
       "<table border=\"1\" class=\"dataframe\">\n",
       "  <thead>\n",
       "    <tr style=\"text-align: right;\">\n",
       "      <th></th>\n",
       "      <th>DateTime_Intake</th>\n",
       "      <th>DateTime_Outcome</th>\n",
       "    </tr>\n",
       "  </thead>\n",
       "  <tbody>\n",
       "    <tr>\n",
       "      <th>24</th>\n",
       "      <td>2015-06-19 17:17:00</td>\n",
       "      <td>2015-06-19 00:00:00</td>\n",
       "    </tr>\n",
       "    <tr>\n",
       "      <th>40</th>\n",
       "      <td>2019-02-25 18:07:00</td>\n",
       "      <td>2018-02-20 18:32:00</td>\n",
       "    </tr>\n",
       "    <tr>\n",
       "      <th>46</th>\n",
       "      <td>2018-12-04 11:08:00</td>\n",
       "      <td>2018-11-26 17:05:00</td>\n",
       "    </tr>\n",
       "    <tr>\n",
       "      <th>121</th>\n",
       "      <td>2015-12-16 11:46:00</td>\n",
       "      <td>2015-12-06 15:05:00</td>\n",
       "    </tr>\n",
       "    <tr>\n",
       "      <th>206</th>\n",
       "      <td>2019-10-07 15:17:00</td>\n",
       "      <td>2019-10-07 10:31:00</td>\n",
       "    </tr>\n",
       "  </tbody>\n",
       "</table>\n",
       "</div>"
      ],
      "text/plain": [
       "        DateTime_Intake    DateTime_Outcome\n",
       "24  2015-06-19 17:17:00 2015-06-19 00:00:00\n",
       "40  2019-02-25 18:07:00 2018-02-20 18:32:00\n",
       "46  2018-12-04 11:08:00 2018-11-26 17:05:00\n",
       "121 2015-12-16 11:46:00 2015-12-06 15:05:00\n",
       "206 2019-10-07 15:17:00 2019-10-07 10:31:00"
      ]
     },
     "execution_count": 61,
     "metadata": {},
     "output_type": "execute_result"
    }
   ],
   "source": [
    "in_later = df[['DateTime_Intake', 'DateTime_Outcome']][df['DateTime_Intake'] > df['DateTime_Outcome']]\n",
    "\n",
    "print(len(in_later))\n",
    "in_later.head()"
   ]
  },
  {
   "cell_type": "markdown",
   "metadata": {},
   "source": [
    "The length of the garbage data indicates there are just 10 records that have a intake time after the outcome time."
   ]
  },
  {
   "cell_type": "code",
   "execution_count": 62,
   "metadata": {},
   "outputs": [],
   "source": [
    "df['DateTime_Intake'], df['DateTime_Outcome'] = np.where(df['DateTime_Intake'] > df['DateTime_Outcome'],\n",
    "                                                                [df['DateTime_Outcome'], df['DateTime_Intake']],\n",
    "                                                                [df['DateTime_Intake'], df['DateTime_Outcome']])"
   ]
  },
  {
   "cell_type": "code",
   "execution_count": 63,
   "metadata": {},
   "outputs": [
    {
     "data": {
      "text/plain": [
       "count                       1000\n",
       "mean     19 days 09:00:25.620000\n",
       "std      53 days 06:38:20.824403\n",
       "min              0 days 00:01:00\n",
       "25%              1 days 02:46:45\n",
       "50%              5 days 00:55:00\n",
       "75%             15 days 02:32:45\n",
       "max            870 days 20:49:00\n",
       "Name: Time_stayed, dtype: object"
      ]
     },
     "execution_count": 63,
     "metadata": {},
     "output_type": "execute_result"
    }
   ],
   "source": [
    "df['Time_stayed'] = pd.to_datetime(df['DateTime_Outcome']) - pd.to_datetime(df['DateTime_Intake'])\n",
    "df['Time_stayed'].describe()"
   ]
  },
  {
   "cell_type": "code",
   "execution_count": 64,
   "metadata": {},
   "outputs": [
    {
     "data": {
      "image/png": "[encoded data removed]",
      "text/plain": [
       "<Figure size 1440x720 with 1 Axes>"
      ]
     },
     "metadata": {
      "needs_background": "light"
     },
     "output_type": "display_data"
    }
   ],
   "source": [
    "df['Time_stayed'] = pd.to_timedelta(df['Time_stayed'])\n",
    "df['Time_stayed_days'] = df['Time_stayed'].dt.total_seconds() / (24 * 60 * 60)\n",
    "\n",
    "intake_cond_out_time = df.groupby(['Result'])['Time_stayed_days'].mean().sort_values(ascending=False).plot(kind='bar', \n",
    "                                                                                                                                figsize=(20, 10),\n",
    "                                                                                                                                fontsize=20)\n",
    "intake_cond_out_time.set_ylabel('Mean Days in Shelter', fontsize=26)\n",
    "intake_cond_out_time.set_xlabel('Binary Outcome', fontsize=26)\n",
    "intake_cond_out_time.set_title('Mean Days in Shelter', fontsize=30)\n",
    "\n",
    "plt.tight_layout()\n",
    "sns.despine(bottom=True)"
   ]
  },
  {
   "cell_type": "markdown",
   "metadata": {},
   "source": [
    "The chart determines the less days remained in the shelter house the higher the awful result is. This can be the demise of creature which decreases the days remained in the asylum."
   ]
  },
  {
   "cell_type": "code",
   "execution_count": null,
   "metadata": {},
   "outputs": [
    {
     "name": "stdout",
     "output_type": "stream",
     "text": [
      "6 \t 112\n",
      "8 \t 81\n",
      "5 \t 96\n"
     ]
    }
   ],
   "source": [
    "month = pd.unique(df[\"month\"].ravel())\n",
    "\n",
    "\n",
    "df['percent'] = 0\n",
    "\n",
    "for i in month:\n",
    "    \n",
    "    count = df[df[\"month\"] == i].count()['Result']\n",
    "    count_percentage = (1 / count) * 100\n",
    "\n",
    " # print out index vs count\n",
    "    print(i, \"\\t\", count)\n",
    "    \n",
    "    index_list = df[df['month'] == i].index.tolist()\n",
    "    for ind in index_list:\n",
    "        df.loc[ind, 'percent'] = count_percentage\n",
    "\n",
    "        \n",
    "        \n",
    "group = df[['percent','month','Result']].groupby(['month','Result']).sum()\n",
    "\n",
    "my_plot = group.unstack().plot(kind='bar', stacked=True, title=\"Result vs month\", figsize=(15,7), grid=True)\n",
    "\n",
    "# add legend\n",
    "red_patch = mpatches.Patch(color='orange', label='Negative Case')\n",
    "blue_patch = mpatches.Patch(color='blue', label='Positive Case')\n",
    "my_plot.legend(handles=[red_patch, blue_patch], frameon = True)\n",
    "\n",
    "# add gridlines\n",
    "plt.grid(b=True, which='major', color='#666666', linestyle='-')\n",
    "plt.minorticks_on()\n",
    "plt.grid(b=True, which='minor', color='#999999', linestyle='-', alpha=0.2)\n",
    "\n",
    "my_plot.set_xlabel(\"month\")\n",
    "my_plot.set_ylabel(\"Result in percentage\")\n",
    "my_plot.set_ylim([0,100])"
   ]
  },
  {
   "cell_type": "markdown",
   "metadata": {},
   "source": [
    "From the above chart we can see that the animals that came in first 3 months(January-March) and in last 3 months(October-December) have higher negative result compared to other animals in the shelter."
   ]
  },
  {
   "cell_type": "code",
   "execution_count": null,
   "metadata": {},
   "outputs": [],
   "source": [
    "df.to_csv('AnimalWelfareRisk-19200438-updated-3-final.csv')\n"
   ]
  },
  {
   "cell_type": "markdown",
   "metadata": {},
   "source": [
    "#### Conclusion\n",
    "\n",
    "* The wild animals are more negative result giving may be because people don't want to adopt them. \n",
    "* Dogs have higher positive result compared to others in the category.\n",
    "* The highest negative result for intake condition is 'injured' as injured animals have less chance of survival.where as sick 60% and aged too.\n",
    "* The most positive result is normal. And it makes sense even because people would prefere adopt animals with normal conditions.\n",
    "* Euthanasia request,as no suprise has high negative result because people want them to get killed."
   ]
  },
  {
   "cell_type": "code",
   "execution_count": null,
   "metadata": {},
   "outputs": [],
   "source": []
  }
 ],
 "metadata": {
  "kernelspec": {
   "display_name": "Python 3",
   "language": "python",
   "name": "python3"
  },
  "language_info": {
   "codemirror_mode": {
    "name": "ipython",
    "version": 3
   },
   "file_extension": ".py",
   "mimetype": "text/x-python",
   "name": "python",
   "nbconvert_exporter": "python",
   "pygments_lexer": "ipython3",
   "version": "3.7.6"
  }
 },
 "nbformat": 4,
 "nbformat_minor": 1
}
